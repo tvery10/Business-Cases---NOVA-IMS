{
 "cells": [
  {
   "cell_type": "code",
   "execution_count": 1,
   "id": "0af863cc",
   "metadata": {},
   "outputs": [],
   "source": [
    "# Packages\n",
    "import os\n",
    "import numpy as np\n",
    "import pandas as pd\n",
    "import matplotlib.pyplot as plt\n",
    "\n",
    "from matplotlib import ticker\n",
    "import seaborn as sns\n",
    "import joypy\n",
    "import category_encoders as ce\n",
    "import collections\n",
    "from sklearn.impute import SimpleImputer\n",
    "from sklearn import preprocessing\n",
    "from sklearn.cluster import KMeans\n",
    "from sklearn.decomposition import PCA\n",
    "from sklearn.metrics import silhouette_score\n",
    "from yellowbrick.cluster import KElbowVisualizer\n",
    "from yellowbrick.cluster import SilhouetteVisualizer\n",
    "from yellowbrick.cluster import InterclusterDistance\n",
    "import random\n",
    "import warnings\n",
    "warnings.filterwarnings(\"ignore\")"
   ]
  },
  {
   "cell_type": "code",
   "execution_count": 2,
   "id": "8fb5637c",
   "metadata": {},
   "outputs": [],
   "source": [
    "subPlots_Title_fontSize = 12\n",
    "subPlots_xAxis_fontSize = 10\n",
    "subPlots_yAxis_fontSize = 10\n",
    "subPlots_label_fontSize = 10\n",
    "heatmaps_text_fontSize = 8\n",
    "\n",
    "plots_Title_fontSize = 14\n",
    "plots_Title_textColour = 'black'\n",
    "\n",
    "plots_Legend_fontSize = 12\n",
    "plots_Legend_textColour = 'black'\n",
    "\n",
    "plots_barTexts_fontSize = 8"
   ]
  },
  {
   "cell_type": "markdown",
   "id": "d884386f",
   "metadata": {},
   "source": [
    "# Extract the data"
   ]
  },
  {
   "cell_type": "code",
   "execution_count": 3,
   "id": "bda85ef6",
   "metadata": {},
   "outputs": [],
   "source": [
    "# extract the data of the first sheet of Case4_UNL-IMS - Data - delivery v2.xlsx\n",
    "ds_task_execution = pd.read_excel('Case4_UNL-IMS - Data - delivery v2.xlsx')\n",
    "ds_task_execution_original = ds_task_execution.copy()"
   ]
  },
  {
   "cell_type": "code",
   "execution_count": 4,
   "id": "4a685f85",
   "metadata": {},
   "outputs": [],
   "source": [
    "# extract the data of the second sheet of Case4_UNL-IMS - Data - delivery v2.xlsx\n",
    "ds_user_info = pd.read_excel('Case4_UNL-IMS - Data - delivery v2.xlsx', sheet_name=1)\n",
    "ds_user_info_original = ds_user_info.copy()"
   ]
  },
  {
   "cell_type": "code",
   "execution_count": 5,
   "id": "2e83dcd8",
   "metadata": {},
   "outputs": [],
   "source": [
    "# extract the data of the third sheet of Case4_UNL-IMS - Data - delivery v2.xlsx\n",
    "ds_specific_request = pd.read_excel('Case4_UNL-IMS - Data - delivery v2.xlsx', sheet_name=2)\n",
    "ds_specific_request_original = ds_specific_request.copy()"
   ]
  },
  {
   "cell_type": "code",
   "execution_count": 6,
   "id": "4c2d97d0",
   "metadata": {},
   "outputs": [],
   "source": [
    "# extract the data of the fourth sheet of Case4_UNL-IMS - Data - delivery v2.xlsx\n",
    "ds_rejections = pd.read_excel('Case4_UNL-IMS - Data - delivery v2.xlsx', sheet_name=3)\n",
    "ds_rejections_original = ds_rejections.copy()"
   ]
  },
  {
   "cell_type": "code",
   "execution_count": null,
   "id": "650d2833",
   "metadata": {},
   "outputs": [],
   "source": []
  },
  {
   "cell_type": "markdown",
   "id": "95deba21",
   "metadata": {},
   "source": [
    "# 1. Data Exploration and Preparation"
   ]
  },
  {
   "cell_type": "markdown",
   "id": "c55606b5",
   "metadata": {},
   "source": [
    "### 1.1. Task Execution "
   ]
  },
  {
   "cell_type": "code",
   "execution_count": 7,
   "id": "4ebdf671",
   "metadata": {},
   "outputs": [
    {
     "data": {
      "text/html": [
       "<div>\n",
       "<style scoped>\n",
       "    .dataframe tbody tr th:only-of-type {\n",
       "        vertical-align: middle;\n",
       "    }\n",
       "\n",
       "    .dataframe tbody tr th {\n",
       "        vertical-align: top;\n",
       "    }\n",
       "\n",
       "    .dataframe thead th {\n",
       "        text-align: right;\n",
       "    }\n",
       "</style>\n",
       "<table border=\"1\" class=\"dataframe\">\n",
       "  <thead>\n",
       "    <tr style=\"text-align: right;\">\n",
       "      <th></th>\n",
       "      <th>Task Id</th>\n",
       "      <th>Request Identifier</th>\n",
       "      <th>Task arrival date</th>\n",
       "      <th>Task capture date</th>\n",
       "      <th>Task execution end date</th>\n",
       "      <th>Task predicted end date</th>\n",
       "      <th>Actvity ID</th>\n",
       "      <th>Task Executer</th>\n",
       "      <th>Task executer department</th>\n",
       "      <th>Task Type</th>\n",
       "      <th>Action</th>\n",
       "      <th>idBPMApplicationAction</th>\n",
       "    </tr>\n",
       "  </thead>\n",
       "  <tbody>\n",
       "    <tr>\n",
       "      <th>0</th>\n",
       "      <td>1584303</td>\n",
       "      <td>1</td>\n",
       "      <td>2022-04-11 16:02:13.820</td>\n",
       "      <td>2022-04-11 16:02:13.820</td>\n",
       "      <td>2022-04-11 16:02:13.820</td>\n",
       "      <td>NaN</td>\n",
       "      <td>100</td>\n",
       "      <td>7638.0</td>\n",
       "      <td>569.0</td>\n",
       "      <td>Initial Request</td>\n",
       "      <td>Submit initial request</td>\n",
       "      <td>270</td>\n",
       "    </tr>\n",
       "    <tr>\n",
       "      <th>1</th>\n",
       "      <td>1584304</td>\n",
       "      <td>1</td>\n",
       "      <td>2022-04-11 16:02:14.743</td>\n",
       "      <td>2022-04-12 09:29:40.683</td>\n",
       "      <td>2022-04-12 10:02:54.687</td>\n",
       "      <td>2022-04-12 14:02:14.803</td>\n",
       "      <td>102</td>\n",
       "      <td>4322.0</td>\n",
       "      <td>1104.0</td>\n",
       "      <td>Execution</td>\n",
       "      <td>NaN</td>\n",
       "      <td>273</td>\n",
       "    </tr>\n",
       "    <tr>\n",
       "      <th>2</th>\n",
       "      <td>1585980</td>\n",
       "      <td>1</td>\n",
       "      <td>2022-04-12 10:02:55.530</td>\n",
       "      <td>2022-04-12 10:14:39.290</td>\n",
       "      <td>2022-04-12 10:17:16.050</td>\n",
       "      <td>2022-04-12 17:02:55.577</td>\n",
       "      <td>103</td>\n",
       "      <td>10606.0</td>\n",
       "      <td>NaN</td>\n",
       "      <td>Execution</td>\n",
       "      <td>NaN</td>\n",
       "      <td>273</td>\n",
       "    </tr>\n",
       "    <tr>\n",
       "      <th>3</th>\n",
       "      <td>1586077</td>\n",
       "      <td>1</td>\n",
       "      <td>2022-04-12 10:17:16.427</td>\n",
       "      <td>2022-04-12 10:22:47.610</td>\n",
       "      <td>2022-05-10 13:43:32.203</td>\n",
       "      <td>2022-04-12 17:17:16.490</td>\n",
       "      <td>104</td>\n",
       "      <td>7638.0</td>\n",
       "      <td>569.0</td>\n",
       "      <td>Execution</td>\n",
       "      <td>Task executed with success</td>\n",
       "      <td>282</td>\n",
       "    </tr>\n",
       "    <tr>\n",
       "      <th>4</th>\n",
       "      <td>1671448</td>\n",
       "      <td>1</td>\n",
       "      <td>2022-05-10 13:43:32.627</td>\n",
       "      <td>2022-05-10 13:47:53.570</td>\n",
       "      <td>2022-05-10 13:48:44.353</td>\n",
       "      <td>2022-05-17 08:43:32.737</td>\n",
       "      <td>107</td>\n",
       "      <td>7638.0</td>\n",
       "      <td>569.0</td>\n",
       "      <td>Final task</td>\n",
       "      <td>Request accepted by requester</td>\n",
       "      <td>299</td>\n",
       "    </tr>\n",
       "  </tbody>\n",
       "</table>\n",
       "</div>"
      ],
      "text/plain": [
       "   Task Id  Request Identifier        Task arrival date  \\\n",
       "0  1584303                   1  2022-04-11 16:02:13.820   \n",
       "1  1584304                   1  2022-04-11 16:02:14.743   \n",
       "2  1585980                   1  2022-04-12 10:02:55.530   \n",
       "3  1586077                   1  2022-04-12 10:17:16.427   \n",
       "4  1671448                   1  2022-05-10 13:43:32.627   \n",
       "\n",
       "         Task capture date  Task execution end date  Task predicted end date  \\\n",
       "0  2022-04-11 16:02:13.820  2022-04-11 16:02:13.820                      NaN   \n",
       "1  2022-04-12 09:29:40.683  2022-04-12 10:02:54.687  2022-04-12 14:02:14.803   \n",
       "2  2022-04-12 10:14:39.290  2022-04-12 10:17:16.050  2022-04-12 17:02:55.577   \n",
       "3  2022-04-12 10:22:47.610  2022-05-10 13:43:32.203  2022-04-12 17:17:16.490   \n",
       "4  2022-05-10 13:47:53.570  2022-05-10 13:48:44.353  2022-05-17 08:43:32.737   \n",
       "\n",
       "   Actvity ID  Task Executer  Task executer department        Task Type  \\\n",
       "0         100         7638.0                     569.0  Initial Request   \n",
       "1         102         4322.0                    1104.0        Execution   \n",
       "2         103        10606.0                       NaN        Execution   \n",
       "3         104         7638.0                     569.0        Execution   \n",
       "4         107         7638.0                     569.0       Final task   \n",
       "\n",
       "                          Action  idBPMApplicationAction  \n",
       "0         Submit initial request                     270  \n",
       "1                            NaN                     273  \n",
       "2                            NaN                     273  \n",
       "3     Task executed with success                     282  \n",
       "4  Request accepted by requester                     299  "
      ]
     },
     "execution_count": 7,
     "metadata": {},
     "output_type": "execute_result"
    }
   ],
   "source": [
    "ds_task_execution.head()"
   ]
  },
  {
   "cell_type": "code",
   "execution_count": 8,
   "id": "362151d8",
   "metadata": {},
   "outputs": [
    {
     "name": "stdout",
     "output_type": "stream",
     "text": [
      "<class 'pandas.core.frame.DataFrame'>\n",
      "RangeIndex: 209017 entries, 0 to 209016\n",
      "Data columns (total 12 columns):\n",
      " #   Column                    Non-Null Count   Dtype  \n",
      "---  ------                    --------------   -----  \n",
      " 0   Task Id                   209017 non-null  int64  \n",
      " 1   Request Identifier        209017 non-null  int64  \n",
      " 2   Task arrival date         209017 non-null  object \n",
      " 3   Task capture date         209017 non-null  object \n",
      " 4   Task execution end date   209017 non-null  object \n",
      " 5   Task predicted end date   163232 non-null  object \n",
      " 6   Actvity ID                209017 non-null  int64  \n",
      " 7   Task Executer             188888 non-null  float64\n",
      " 8   Task executer department  181887 non-null  float64\n",
      " 9   Task Type                 209017 non-null  object \n",
      " 10  Action                    124576 non-null  object \n",
      " 11  idBPMApplicationAction    209017 non-null  int64  \n",
      "dtypes: float64(2), int64(4), object(6)\n",
      "memory usage: 19.1+ MB\n"
     ]
    }
   ],
   "source": [
    "ds_task_execution.info()"
   ]
  },
  {
   "cell_type": "code",
   "execution_count": 9,
   "id": "2e7f91e7",
   "metadata": {},
   "outputs": [],
   "source": [
    "# Rename the column Actvity ID to Activity ID\n",
    "ds_task_execution.rename(columns={'Actvity ID': 'Activity ID'}, inplace=True)"
   ]
  },
  {
   "cell_type": "code",
   "execution_count": 10,
   "id": "aed29dd5",
   "metadata": {},
   "outputs": [
    {
     "data": {
      "text/plain": [
       "Task Id                         0\n",
       "Request Identifier              0\n",
       "Task arrival date               0\n",
       "Task capture date               0\n",
       "Task execution end date         0\n",
       "Task predicted end date     45785\n",
       "Activity ID                     0\n",
       "Task Executer               20129\n",
       "Task executer department    27130\n",
       "Task Type                       0\n",
       "Action                      84441\n",
       "idBPMApplicationAction          0\n",
       "dtype: int64"
      ]
     },
     "execution_count": 10,
     "metadata": {},
     "output_type": "execute_result"
    }
   ],
   "source": [
    "# Check for nulls\n",
    "ds_task_execution.isnull().sum()"
   ]
  },
  {
   "cell_type": "code",
   "execution_count": 11,
   "id": "682174fa",
   "metadata": {},
   "outputs": [],
   "source": [
    "# os nulls da Task predicted end date são todos do task type 'initial request', acho q era suposto"
   ]
  },
  {
   "cell_type": "code",
   "execution_count": 12,
   "id": "00af80d0",
   "metadata": {},
   "outputs": [
    {
     "data": {
      "text/plain": [
       "0"
      ]
     },
     "execution_count": 12,
     "metadata": {},
     "output_type": "execute_result"
    }
   ],
   "source": [
    "# Check for duplicates\n",
    "ds_task_execution.duplicated().sum()"
   ]
  },
  {
   "cell_type": "code",
   "execution_count": 13,
   "id": "c4edc80a",
   "metadata": {},
   "outputs": [
    {
     "data": {
      "text/plain": [
       "1584303    1\n",
       "3945953    1\n",
       "3945749    1\n",
       "3947939    1\n",
       "3948764    1\n",
       "          ..\n",
       "2528343    1\n",
       "2528344    1\n",
       "2531841    1\n",
       "2532500    1\n",
       "6863412    1\n",
       "Name: Task Id, Length: 209017, dtype: int64"
      ]
     },
     "execution_count": 13,
     "metadata": {},
     "output_type": "execute_result"
    }
   ],
   "source": [
    "ds_task_execution['Task Id'].value_counts()"
   ]
  },
  {
   "cell_type": "code",
   "execution_count": 14,
   "id": "f8bd932b",
   "metadata": {},
   "outputs": [
    {
     "data": {
      "text/plain": [
       "38251    26\n",
       "14835    22\n",
       "42129    22\n",
       "27606    21\n",
       "38766    20\n",
       "         ..\n",
       "7698      2\n",
       "39088     2\n",
       "27537     2\n",
       "29429     2\n",
       "45449     2\n",
       "Name: Request Identifier, Length: 45772, dtype: int64"
      ]
     },
     "execution_count": 14,
     "metadata": {},
     "output_type": "execute_result"
    }
   ],
   "source": [
    "ds_task_execution['Request Identifier'].value_counts()"
   ]
  },
  {
   "cell_type": "code",
   "execution_count": 15,
   "id": "82c271a3",
   "metadata": {},
   "outputs": [
    {
     "data": {
      "text/html": [
       "<div>\n",
       "<style scoped>\n",
       "    .dataframe tbody tr th:only-of-type {\n",
       "        vertical-align: middle;\n",
       "    }\n",
       "\n",
       "    .dataframe tbody tr th {\n",
       "        vertical-align: top;\n",
       "    }\n",
       "\n",
       "    .dataframe thead th {\n",
       "        text-align: right;\n",
       "    }\n",
       "</style>\n",
       "<table border=\"1\" class=\"dataframe\">\n",
       "  <thead>\n",
       "    <tr style=\"text-align: right;\">\n",
       "      <th></th>\n",
       "      <th>Task Id</th>\n",
       "      <th>Request Identifier</th>\n",
       "      <th>Task arrival date</th>\n",
       "      <th>Task capture date</th>\n",
       "      <th>Task execution end date</th>\n",
       "      <th>Task predicted end date</th>\n",
       "      <th>Activity ID</th>\n",
       "      <th>Task Executer</th>\n",
       "      <th>Task executer department</th>\n",
       "      <th>Task Type</th>\n",
       "      <th>Action</th>\n",
       "      <th>idBPMApplicationAction</th>\n",
       "      <th>Last Activity ID</th>\n",
       "    </tr>\n",
       "  </thead>\n",
       "  <tbody>\n",
       "    <tr>\n",
       "      <th>0</th>\n",
       "      <td>1584303</td>\n",
       "      <td>1</td>\n",
       "      <td>2022-04-11 16:02:13.820</td>\n",
       "      <td>2022-04-11 16:02:13.820</td>\n",
       "      <td>2022-04-11 16:02:13.820</td>\n",
       "      <td>NaN</td>\n",
       "      <td>100</td>\n",
       "      <td>7638.0</td>\n",
       "      <td>569.0</td>\n",
       "      <td>Initial Request</td>\n",
       "      <td>Submit initial request</td>\n",
       "      <td>270</td>\n",
       "      <td>107</td>\n",
       "    </tr>\n",
       "    <tr>\n",
       "      <th>1</th>\n",
       "      <td>1584304</td>\n",
       "      <td>1</td>\n",
       "      <td>2022-04-11 16:02:14.743</td>\n",
       "      <td>2022-04-12 09:29:40.683</td>\n",
       "      <td>2022-04-12 10:02:54.687</td>\n",
       "      <td>2022-04-12 14:02:14.803</td>\n",
       "      <td>102</td>\n",
       "      <td>4322.0</td>\n",
       "      <td>1104.0</td>\n",
       "      <td>Execution</td>\n",
       "      <td>NaN</td>\n",
       "      <td>273</td>\n",
       "      <td>107</td>\n",
       "    </tr>\n",
       "    <tr>\n",
       "      <th>2</th>\n",
       "      <td>1585980</td>\n",
       "      <td>1</td>\n",
       "      <td>2022-04-12 10:02:55.530</td>\n",
       "      <td>2022-04-12 10:14:39.290</td>\n",
       "      <td>2022-04-12 10:17:16.050</td>\n",
       "      <td>2022-04-12 17:02:55.577</td>\n",
       "      <td>103</td>\n",
       "      <td>10606.0</td>\n",
       "      <td>NaN</td>\n",
       "      <td>Execution</td>\n",
       "      <td>NaN</td>\n",
       "      <td>273</td>\n",
       "      <td>107</td>\n",
       "    </tr>\n",
       "    <tr>\n",
       "      <th>3</th>\n",
       "      <td>1586077</td>\n",
       "      <td>1</td>\n",
       "      <td>2022-04-12 10:17:16.427</td>\n",
       "      <td>2022-04-12 10:22:47.610</td>\n",
       "      <td>2022-05-10 13:43:32.203</td>\n",
       "      <td>2022-04-12 17:17:16.490</td>\n",
       "      <td>104</td>\n",
       "      <td>7638.0</td>\n",
       "      <td>569.0</td>\n",
       "      <td>Execution</td>\n",
       "      <td>Task executed with success</td>\n",
       "      <td>282</td>\n",
       "      <td>107</td>\n",
       "    </tr>\n",
       "    <tr>\n",
       "      <th>4</th>\n",
       "      <td>1671448</td>\n",
       "      <td>1</td>\n",
       "      <td>2022-05-10 13:43:32.627</td>\n",
       "      <td>2022-05-10 13:47:53.570</td>\n",
       "      <td>2022-05-10 13:48:44.353</td>\n",
       "      <td>2022-05-17 08:43:32.737</td>\n",
       "      <td>107</td>\n",
       "      <td>7638.0</td>\n",
       "      <td>569.0</td>\n",
       "      <td>Final task</td>\n",
       "      <td>Request accepted by requester</td>\n",
       "      <td>299</td>\n",
       "      <td>107</td>\n",
       "    </tr>\n",
       "    <tr>\n",
       "      <th>5</th>\n",
       "      <td>1586253</td>\n",
       "      <td>2</td>\n",
       "      <td>2022-04-12 10:50:25.570</td>\n",
       "      <td>2022-04-12 10:50:25.570</td>\n",
       "      <td>2022-04-12 10:50:25.570</td>\n",
       "      <td>NaN</td>\n",
       "      <td>100</td>\n",
       "      <td>598.0</td>\n",
       "      <td>606.0</td>\n",
       "      <td>Initial Request</td>\n",
       "      <td>Submit initial request</td>\n",
       "      <td>270</td>\n",
       "      <td>107</td>\n",
       "    </tr>\n",
       "    <tr>\n",
       "      <th>6</th>\n",
       "      <td>1586254</td>\n",
       "      <td>2</td>\n",
       "      <td>2022-04-12 10:50:26.147</td>\n",
       "      <td>2022-04-12 10:52:00.203</td>\n",
       "      <td>2022-04-12 12:35:56.390</td>\n",
       "      <td>2022-04-13 08:50:26.197</td>\n",
       "      <td>102</td>\n",
       "      <td>4322.0</td>\n",
       "      <td>1104.0</td>\n",
       "      <td>Execution</td>\n",
       "      <td>NaN</td>\n",
       "      <td>273</td>\n",
       "      <td>107</td>\n",
       "    </tr>\n",
       "    <tr>\n",
       "      <th>7</th>\n",
       "      <td>1587111</td>\n",
       "      <td>2</td>\n",
       "      <td>2022-04-12 12:35:56.890</td>\n",
       "      <td>2022-04-12 13:44:25.607</td>\n",
       "      <td>2022-04-12 13:45:24.067</td>\n",
       "      <td>2022-04-13 10:35:56.930</td>\n",
       "      <td>103</td>\n",
       "      <td>10606.0</td>\n",
       "      <td>NaN</td>\n",
       "      <td>Execution</td>\n",
       "      <td>NaN</td>\n",
       "      <td>273</td>\n",
       "      <td>107</td>\n",
       "    </tr>\n",
       "    <tr>\n",
       "      <th>8</th>\n",
       "      <td>1587525</td>\n",
       "      <td>2</td>\n",
       "      <td>2022-04-12 13:45:24.847</td>\n",
       "      <td>2022-04-12 13:53:42.120</td>\n",
       "      <td>2022-04-12 14:18:35.850</td>\n",
       "      <td>2022-04-13 11:45:24.960</td>\n",
       "      <td>104</td>\n",
       "      <td>598.0</td>\n",
       "      <td>606.0</td>\n",
       "      <td>Execution</td>\n",
       "      <td>Task executed with success</td>\n",
       "      <td>282</td>\n",
       "      <td>107</td>\n",
       "    </tr>\n",
       "    <tr>\n",
       "      <th>9</th>\n",
       "      <td>1587689</td>\n",
       "      <td>2</td>\n",
       "      <td>2022-04-12 14:18:36.880</td>\n",
       "      <td>2022-04-12 14:21:47.677</td>\n",
       "      <td>2022-04-12 14:23:32.340</td>\n",
       "      <td>2022-04-20 09:18:36.940</td>\n",
       "      <td>107</td>\n",
       "      <td>598.0</td>\n",
       "      <td>606.0</td>\n",
       "      <td>Final task</td>\n",
       "      <td>Request accepted by requester</td>\n",
       "      <td>299</td>\n",
       "      <td>107</td>\n",
       "    </tr>\n",
       "    <tr>\n",
       "      <th>10</th>\n",
       "      <td>1589361</td>\n",
       "      <td>3</td>\n",
       "      <td>2022-04-12 18:09:29.153</td>\n",
       "      <td>2022-04-12 18:09:29.153</td>\n",
       "      <td>2022-04-12 18:09:29.153</td>\n",
       "      <td>NaN</td>\n",
       "      <td>100</td>\n",
       "      <td>11029.0</td>\n",
       "      <td>167.0</td>\n",
       "      <td>Initial Request</td>\n",
       "      <td>Submit initial request</td>\n",
       "      <td>270</td>\n",
       "      <td>102</td>\n",
       "    </tr>\n",
       "    <tr>\n",
       "      <th>11</th>\n",
       "      <td>1589362</td>\n",
       "      <td>3</td>\n",
       "      <td>2022-04-12 18:09:29.607</td>\n",
       "      <td>2022-04-13 13:16:14.933</td>\n",
       "      <td>2022-04-13 13:16:14.933</td>\n",
       "      <td>2022-04-13 15:30:00.690</td>\n",
       "      <td>102</td>\n",
       "      <td>11029.0</td>\n",
       "      <td>167.0</td>\n",
       "      <td>Execution</td>\n",
       "      <td>NaN</td>\n",
       "      <td>298</td>\n",
       "      <td>102</td>\n",
       "    </tr>\n",
       "  </tbody>\n",
       "</table>\n",
       "</div>"
      ],
      "text/plain": [
       "    Task Id  Request Identifier        Task arrival date  \\\n",
       "0   1584303                   1  2022-04-11 16:02:13.820   \n",
       "1   1584304                   1  2022-04-11 16:02:14.743   \n",
       "2   1585980                   1  2022-04-12 10:02:55.530   \n",
       "3   1586077                   1  2022-04-12 10:17:16.427   \n",
       "4   1671448                   1  2022-05-10 13:43:32.627   \n",
       "5   1586253                   2  2022-04-12 10:50:25.570   \n",
       "6   1586254                   2  2022-04-12 10:50:26.147   \n",
       "7   1587111                   2  2022-04-12 12:35:56.890   \n",
       "8   1587525                   2  2022-04-12 13:45:24.847   \n",
       "9   1587689                   2  2022-04-12 14:18:36.880   \n",
       "10  1589361                   3  2022-04-12 18:09:29.153   \n",
       "11  1589362                   3  2022-04-12 18:09:29.607   \n",
       "\n",
       "          Task capture date  Task execution end date  Task predicted end date  \\\n",
       "0   2022-04-11 16:02:13.820  2022-04-11 16:02:13.820                      NaN   \n",
       "1   2022-04-12 09:29:40.683  2022-04-12 10:02:54.687  2022-04-12 14:02:14.803   \n",
       "2   2022-04-12 10:14:39.290  2022-04-12 10:17:16.050  2022-04-12 17:02:55.577   \n",
       "3   2022-04-12 10:22:47.610  2022-05-10 13:43:32.203  2022-04-12 17:17:16.490   \n",
       "4   2022-05-10 13:47:53.570  2022-05-10 13:48:44.353  2022-05-17 08:43:32.737   \n",
       "5   2022-04-12 10:50:25.570  2022-04-12 10:50:25.570                      NaN   \n",
       "6   2022-04-12 10:52:00.203  2022-04-12 12:35:56.390  2022-04-13 08:50:26.197   \n",
       "7   2022-04-12 13:44:25.607  2022-04-12 13:45:24.067  2022-04-13 10:35:56.930   \n",
       "8   2022-04-12 13:53:42.120  2022-04-12 14:18:35.850  2022-04-13 11:45:24.960   \n",
       "9   2022-04-12 14:21:47.677  2022-04-12 14:23:32.340  2022-04-20 09:18:36.940   \n",
       "10  2022-04-12 18:09:29.153  2022-04-12 18:09:29.153                      NaN   \n",
       "11  2022-04-13 13:16:14.933  2022-04-13 13:16:14.933  2022-04-13 15:30:00.690   \n",
       "\n",
       "    Activity ID  Task Executer  Task executer department        Task Type  \\\n",
       "0           100         7638.0                     569.0  Initial Request   \n",
       "1           102         4322.0                    1104.0        Execution   \n",
       "2           103        10606.0                       NaN        Execution   \n",
       "3           104         7638.0                     569.0        Execution   \n",
       "4           107         7638.0                     569.0       Final task   \n",
       "5           100          598.0                     606.0  Initial Request   \n",
       "6           102         4322.0                    1104.0        Execution   \n",
       "7           103        10606.0                       NaN        Execution   \n",
       "8           104          598.0                     606.0        Execution   \n",
       "9           107          598.0                     606.0       Final task   \n",
       "10          100        11029.0                     167.0  Initial Request   \n",
       "11          102        11029.0                     167.0        Execution   \n",
       "\n",
       "                           Action  idBPMApplicationAction  Last Activity ID  \n",
       "0          Submit initial request                     270               107  \n",
       "1                             NaN                     273               107  \n",
       "2                             NaN                     273               107  \n",
       "3      Task executed with success                     282               107  \n",
       "4   Request accepted by requester                     299               107  \n",
       "5          Submit initial request                     270               107  \n",
       "6                             NaN                     273               107  \n",
       "7                             NaN                     273               107  \n",
       "8      Task executed with success                     282               107  \n",
       "9   Request accepted by requester                     299               107  \n",
       "10         Submit initial request                     270               102  \n",
       "11                            NaN                     298               102  "
      ]
     },
     "execution_count": 15,
     "metadata": {},
     "output_type": "execute_result"
    }
   ],
   "source": [
    "# Create a new column with the last Activity ID for each Request Identifier\n",
    "ds_task_execution['Last Activity ID'] = ds_task_execution.groupby('Request Identifier')['Activity ID'].transform('last')\n",
    "ds_task_execution.head(12)"
   ]
  },
  {
   "cell_type": "code",
   "execution_count": 16,
   "id": "bcfe7bed",
   "metadata": {},
   "outputs": [
    {
     "data": {
      "text/plain": [
       "107    123202\n",
       "104     79014\n",
       "101      6485\n",
       "102       306\n",
       "105         6\n",
       "103         4\n",
       "Name: Last Activity ID, dtype: int64"
      ]
     },
     "execution_count": 16,
     "metadata": {},
     "output_type": "execute_result"
    }
   ],
   "source": [
    "# Check all the last activities\n",
    "ds_task_execution['Last Activity ID'].value_counts()"
   ]
  },
  {
   "cell_type": "code",
   "execution_count": 17,
   "id": "7fcc2ba6",
   "metadata": {},
   "outputs": [],
   "source": [
    "# Define the output based on the last activity\n",
    "last_activity_output_map = {\n",
    "    107: 'Request Finished',\n",
    "    102: 'Request Canceled',\n",
    "    101: 'Request Canceled',\n",
    "    104: 'Closed administratively Requester Rejects Accounting Impact',\n",
    "    106: 'Closed administratively', # there isn't a last activity ID 106 but this would be the output\n",
    "    103: 'Closed administratively',\n",
    "    108: 'Closed administratively'\n",
    "}"
   ]
  },
  {
   "cell_type": "code",
   "execution_count": 18,
   "id": "16f291e6",
   "metadata": {},
   "outputs": [
    {
     "data": {
      "text/html": [
       "<div>\n",
       "<style scoped>\n",
       "    .dataframe tbody tr th:only-of-type {\n",
       "        vertical-align: middle;\n",
       "    }\n",
       "\n",
       "    .dataframe tbody tr th {\n",
       "        vertical-align: top;\n",
       "    }\n",
       "\n",
       "    .dataframe thead th {\n",
       "        text-align: right;\n",
       "    }\n",
       "</style>\n",
       "<table border=\"1\" class=\"dataframe\">\n",
       "  <thead>\n",
       "    <tr style=\"text-align: right;\">\n",
       "      <th></th>\n",
       "      <th>Task Id</th>\n",
       "      <th>Request Identifier</th>\n",
       "      <th>Task arrival date</th>\n",
       "      <th>Task capture date</th>\n",
       "      <th>Task execution end date</th>\n",
       "      <th>Task predicted end date</th>\n",
       "      <th>Activity ID</th>\n",
       "      <th>Task Executer</th>\n",
       "      <th>Task executer department</th>\n",
       "      <th>Task Type</th>\n",
       "      <th>Action</th>\n",
       "      <th>idBPMApplicationAction</th>\n",
       "      <th>Last Activity ID</th>\n",
       "      <th>Output</th>\n",
       "    </tr>\n",
       "  </thead>\n",
       "  <tbody>\n",
       "    <tr>\n",
       "      <th>0</th>\n",
       "      <td>1584303</td>\n",
       "      <td>1</td>\n",
       "      <td>2022-04-11 16:02:13.820</td>\n",
       "      <td>2022-04-11 16:02:13.820</td>\n",
       "      <td>2022-04-11 16:02:13.820</td>\n",
       "      <td>NaN</td>\n",
       "      <td>100</td>\n",
       "      <td>7638.0</td>\n",
       "      <td>569.0</td>\n",
       "      <td>Initial Request</td>\n",
       "      <td>Submit initial request</td>\n",
       "      <td>270</td>\n",
       "      <td>107</td>\n",
       "      <td>Request Finished</td>\n",
       "    </tr>\n",
       "    <tr>\n",
       "      <th>1</th>\n",
       "      <td>1584304</td>\n",
       "      <td>1</td>\n",
       "      <td>2022-04-11 16:02:14.743</td>\n",
       "      <td>2022-04-12 09:29:40.683</td>\n",
       "      <td>2022-04-12 10:02:54.687</td>\n",
       "      <td>2022-04-12 14:02:14.803</td>\n",
       "      <td>102</td>\n",
       "      <td>4322.0</td>\n",
       "      <td>1104.0</td>\n",
       "      <td>Execution</td>\n",
       "      <td>NaN</td>\n",
       "      <td>273</td>\n",
       "      <td>107</td>\n",
       "      <td>Request Finished</td>\n",
       "    </tr>\n",
       "    <tr>\n",
       "      <th>2</th>\n",
       "      <td>1585980</td>\n",
       "      <td>1</td>\n",
       "      <td>2022-04-12 10:02:55.530</td>\n",
       "      <td>2022-04-12 10:14:39.290</td>\n",
       "      <td>2022-04-12 10:17:16.050</td>\n",
       "      <td>2022-04-12 17:02:55.577</td>\n",
       "      <td>103</td>\n",
       "      <td>10606.0</td>\n",
       "      <td>NaN</td>\n",
       "      <td>Execution</td>\n",
       "      <td>NaN</td>\n",
       "      <td>273</td>\n",
       "      <td>107</td>\n",
       "      <td>Request Finished</td>\n",
       "    </tr>\n",
       "    <tr>\n",
       "      <th>3</th>\n",
       "      <td>1586077</td>\n",
       "      <td>1</td>\n",
       "      <td>2022-04-12 10:17:16.427</td>\n",
       "      <td>2022-04-12 10:22:47.610</td>\n",
       "      <td>2022-05-10 13:43:32.203</td>\n",
       "      <td>2022-04-12 17:17:16.490</td>\n",
       "      <td>104</td>\n",
       "      <td>7638.0</td>\n",
       "      <td>569.0</td>\n",
       "      <td>Execution</td>\n",
       "      <td>Task executed with success</td>\n",
       "      <td>282</td>\n",
       "      <td>107</td>\n",
       "      <td>Request Finished</td>\n",
       "    </tr>\n",
       "    <tr>\n",
       "      <th>4</th>\n",
       "      <td>1671448</td>\n",
       "      <td>1</td>\n",
       "      <td>2022-05-10 13:43:32.627</td>\n",
       "      <td>2022-05-10 13:47:53.570</td>\n",
       "      <td>2022-05-10 13:48:44.353</td>\n",
       "      <td>2022-05-17 08:43:32.737</td>\n",
       "      <td>107</td>\n",
       "      <td>7638.0</td>\n",
       "      <td>569.0</td>\n",
       "      <td>Final task</td>\n",
       "      <td>Request accepted by requester</td>\n",
       "      <td>299</td>\n",
       "      <td>107</td>\n",
       "      <td>Request Finished</td>\n",
       "    </tr>\n",
       "  </tbody>\n",
       "</table>\n",
       "</div>"
      ],
      "text/plain": [
       "   Task Id  Request Identifier        Task arrival date  \\\n",
       "0  1584303                   1  2022-04-11 16:02:13.820   \n",
       "1  1584304                   1  2022-04-11 16:02:14.743   \n",
       "2  1585980                   1  2022-04-12 10:02:55.530   \n",
       "3  1586077                   1  2022-04-12 10:17:16.427   \n",
       "4  1671448                   1  2022-05-10 13:43:32.627   \n",
       "\n",
       "         Task capture date  Task execution end date  Task predicted end date  \\\n",
       "0  2022-04-11 16:02:13.820  2022-04-11 16:02:13.820                      NaN   \n",
       "1  2022-04-12 09:29:40.683  2022-04-12 10:02:54.687  2022-04-12 14:02:14.803   \n",
       "2  2022-04-12 10:14:39.290  2022-04-12 10:17:16.050  2022-04-12 17:02:55.577   \n",
       "3  2022-04-12 10:22:47.610  2022-05-10 13:43:32.203  2022-04-12 17:17:16.490   \n",
       "4  2022-05-10 13:47:53.570  2022-05-10 13:48:44.353  2022-05-17 08:43:32.737   \n",
       "\n",
       "   Activity ID  Task Executer  Task executer department        Task Type  \\\n",
       "0          100         7638.0                     569.0  Initial Request   \n",
       "1          102         4322.0                    1104.0        Execution   \n",
       "2          103        10606.0                       NaN        Execution   \n",
       "3          104         7638.0                     569.0        Execution   \n",
       "4          107         7638.0                     569.0       Final task   \n",
       "\n",
       "                          Action  idBPMApplicationAction  Last Activity ID  \\\n",
       "0         Submit initial request                     270               107   \n",
       "1                            NaN                     273               107   \n",
       "2                            NaN                     273               107   \n",
       "3     Task executed with success                     282               107   \n",
       "4  Request accepted by requester                     299               107   \n",
       "\n",
       "             Output  \n",
       "0  Request Finished  \n",
       "1  Request Finished  \n",
       "2  Request Finished  \n",
       "3  Request Finished  \n",
       "4  Request Finished  "
      ]
     },
     "execution_count": 18,
     "metadata": {},
     "output_type": "execute_result"
    }
   ],
   "source": [
    "# Create new column with the output\n",
    "ds_task_execution['Output'] = ds_task_execution['Last Activity ID'].map(last_activity_output_map)\n",
    "ds_task_execution.head()"
   ]
  },
  {
   "cell_type": "code",
   "execution_count": 19,
   "id": "839ed346",
   "metadata": {},
   "outputs": [
    {
     "data": {
      "text/plain": [
       "(209017, 14)"
      ]
     },
     "execution_count": 19,
     "metadata": {},
     "output_type": "execute_result"
    }
   ],
   "source": [
    "ds_task_execution.shape"
   ]
  },
  {
   "cell_type": "code",
   "execution_count": 20,
   "id": "b7b6f1b3",
   "metadata": {},
   "outputs": [
    {
     "data": {
      "text/html": [
       "<div>\n",
       "<style scoped>\n",
       "    .dataframe tbody tr th:only-of-type {\n",
       "        vertical-align: middle;\n",
       "    }\n",
       "\n",
       "    .dataframe tbody tr th {\n",
       "        vertical-align: top;\n",
       "    }\n",
       "\n",
       "    .dataframe thead th {\n",
       "        text-align: right;\n",
       "    }\n",
       "</style>\n",
       "<table border=\"1\" class=\"dataframe\">\n",
       "  <thead>\n",
       "    <tr style=\"text-align: right;\">\n",
       "      <th></th>\n",
       "      <th>Task Id</th>\n",
       "      <th>Request Identifier</th>\n",
       "      <th>Task arrival date</th>\n",
       "      <th>Task capture date</th>\n",
       "      <th>Task execution end date</th>\n",
       "      <th>Task predicted end date</th>\n",
       "      <th>Activity ID</th>\n",
       "      <th>Task Executer</th>\n",
       "      <th>Task executer department</th>\n",
       "      <th>Task Type</th>\n",
       "      <th>Action</th>\n",
       "      <th>idBPMApplicationAction</th>\n",
       "      <th>Last Activity ID</th>\n",
       "      <th>Output</th>\n",
       "    </tr>\n",
       "  </thead>\n",
       "  <tbody>\n",
       "    <tr>\n",
       "      <th>0</th>\n",
       "      <td>1584303</td>\n",
       "      <td>1</td>\n",
       "      <td>2022-04-11 16:02:13.820</td>\n",
       "      <td>2022-04-11 16:02:13.820</td>\n",
       "      <td>2022-04-11 16:02:13.820</td>\n",
       "      <td>NaN</td>\n",
       "      <td>100</td>\n",
       "      <td>7638.0</td>\n",
       "      <td>569.0</td>\n",
       "      <td>Initial Request</td>\n",
       "      <td>Submit initial request</td>\n",
       "      <td>270</td>\n",
       "      <td>107</td>\n",
       "      <td>Request Finished</td>\n",
       "    </tr>\n",
       "    <tr>\n",
       "      <th>1</th>\n",
       "      <td>1584304</td>\n",
       "      <td>1</td>\n",
       "      <td>2022-04-11 16:02:14.743</td>\n",
       "      <td>2022-04-12 09:29:40.683</td>\n",
       "      <td>2022-04-12 10:02:54.687</td>\n",
       "      <td>2022-04-12 14:02:14.803</td>\n",
       "      <td>102</td>\n",
       "      <td>4322.0</td>\n",
       "      <td>1104.0</td>\n",
       "      <td>Execution</td>\n",
       "      <td>NaN</td>\n",
       "      <td>273</td>\n",
       "      <td>107</td>\n",
       "      <td>Request Finished</td>\n",
       "    </tr>\n",
       "    <tr>\n",
       "      <th>2</th>\n",
       "      <td>1585980</td>\n",
       "      <td>1</td>\n",
       "      <td>2022-04-12 10:02:55.530</td>\n",
       "      <td>2022-04-12 10:14:39.290</td>\n",
       "      <td>2022-04-12 10:17:16.050</td>\n",
       "      <td>2022-04-12 17:02:55.577</td>\n",
       "      <td>103</td>\n",
       "      <td>10606.0</td>\n",
       "      <td>NaN</td>\n",
       "      <td>Execution</td>\n",
       "      <td>NaN</td>\n",
       "      <td>273</td>\n",
       "      <td>107</td>\n",
       "      <td>Request Finished</td>\n",
       "    </tr>\n",
       "    <tr>\n",
       "      <th>3</th>\n",
       "      <td>1586077</td>\n",
       "      <td>1</td>\n",
       "      <td>2022-04-12 10:17:16.427</td>\n",
       "      <td>2022-04-12 10:22:47.610</td>\n",
       "      <td>2022-05-10 13:43:32.203</td>\n",
       "      <td>2022-04-12 17:17:16.490</td>\n",
       "      <td>104</td>\n",
       "      <td>7638.0</td>\n",
       "      <td>569.0</td>\n",
       "      <td>Execution</td>\n",
       "      <td>Task executed with success</td>\n",
       "      <td>282</td>\n",
       "      <td>107</td>\n",
       "      <td>Request Finished</td>\n",
       "    </tr>\n",
       "    <tr>\n",
       "      <th>4</th>\n",
       "      <td>1671448</td>\n",
       "      <td>1</td>\n",
       "      <td>2022-05-10 13:43:32.627</td>\n",
       "      <td>2022-05-10 13:47:53.570</td>\n",
       "      <td>2022-05-10 13:48:44.353</td>\n",
       "      <td>2022-05-17 08:43:32.737</td>\n",
       "      <td>107</td>\n",
       "      <td>7638.0</td>\n",
       "      <td>569.0</td>\n",
       "      <td>Final task</td>\n",
       "      <td>Request accepted by requester</td>\n",
       "      <td>299</td>\n",
       "      <td>107</td>\n",
       "      <td>Request Finished</td>\n",
       "    </tr>\n",
       "  </tbody>\n",
       "</table>\n",
       "</div>"
      ],
      "text/plain": [
       "   Task Id  Request Identifier        Task arrival date  \\\n",
       "0  1584303                   1  2022-04-11 16:02:13.820   \n",
       "1  1584304                   1  2022-04-11 16:02:14.743   \n",
       "2  1585980                   1  2022-04-12 10:02:55.530   \n",
       "3  1586077                   1  2022-04-12 10:17:16.427   \n",
       "4  1671448                   1  2022-05-10 13:43:32.627   \n",
       "\n",
       "         Task capture date  Task execution end date  Task predicted end date  \\\n",
       "0  2022-04-11 16:02:13.820  2022-04-11 16:02:13.820                      NaN   \n",
       "1  2022-04-12 09:29:40.683  2022-04-12 10:02:54.687  2022-04-12 14:02:14.803   \n",
       "2  2022-04-12 10:14:39.290  2022-04-12 10:17:16.050  2022-04-12 17:02:55.577   \n",
       "3  2022-04-12 10:22:47.610  2022-05-10 13:43:32.203  2022-04-12 17:17:16.490   \n",
       "4  2022-05-10 13:47:53.570  2022-05-10 13:48:44.353  2022-05-17 08:43:32.737   \n",
       "\n",
       "   Activity ID  Task Executer  Task executer department        Task Type  \\\n",
       "0          100         7638.0                     569.0  Initial Request   \n",
       "1          102         4322.0                    1104.0        Execution   \n",
       "2          103        10606.0                       NaN        Execution   \n",
       "3          104         7638.0                     569.0        Execution   \n",
       "4          107         7638.0                     569.0       Final task   \n",
       "\n",
       "                          Action  idBPMApplicationAction  Last Activity ID  \\\n",
       "0         Submit initial request                     270               107   \n",
       "1                            NaN                     273               107   \n",
       "2                            NaN                     273               107   \n",
       "3     Task executed with success                     282               107   \n",
       "4  Request accepted by requester                     299               107   \n",
       "\n",
       "             Output  \n",
       "0  Request Finished  \n",
       "1  Request Finished  \n",
       "2  Request Finished  \n",
       "3  Request Finished  \n",
       "4  Request Finished  "
      ]
     },
     "execution_count": 20,
     "metadata": {},
     "output_type": "execute_result"
    }
   ],
   "source": [
    "# Example when the Request Identifier is 1\n",
    "ds_task_execution[ds_task_execution['Request Identifier'] == 1]"
   ]
  },
  {
   "cell_type": "code",
   "execution_count": null,
   "id": "1b9e56f2",
   "metadata": {},
   "outputs": [],
   "source": []
  },
  {
   "cell_type": "markdown",
   "id": "959a3d58",
   "metadata": {},
   "source": [
    "### 1.2. User Information"
   ]
  },
  {
   "cell_type": "code",
   "execution_count": 21,
   "id": "ad1a9787",
   "metadata": {},
   "outputs": [
    {
     "data": {
      "text/html": [
       "<div>\n",
       "<style scoped>\n",
       "    .dataframe tbody tr th:only-of-type {\n",
       "        vertical-align: middle;\n",
       "    }\n",
       "\n",
       "    .dataframe tbody tr th {\n",
       "        vertical-align: top;\n",
       "    }\n",
       "\n",
       "    .dataframe thead th {\n",
       "        text-align: right;\n",
       "    }\n",
       "</style>\n",
       "<table border=\"1\" class=\"dataframe\">\n",
       "  <thead>\n",
       "    <tr style=\"text-align: right;\">\n",
       "      <th></th>\n",
       "      <th>Task Executer</th>\n",
       "      <th>Sex</th>\n",
       "      <th>BirthYear</th>\n",
       "      <th>Role ID</th>\n",
       "      <th>Is Manager</th>\n",
       "      <th>OrgUnitSince</th>\n",
       "      <th>IsOutSourcer</th>\n",
       "    </tr>\n",
       "  </thead>\n",
       "  <tbody>\n",
       "    <tr>\n",
       "      <th>0</th>\n",
       "      <td>1872</td>\n",
       "      <td>F</td>\n",
       "      <td>1988</td>\n",
       "      <td>1</td>\n",
       "      <td>Yes</td>\n",
       "      <td>2024</td>\n",
       "      <td>N</td>\n",
       "    </tr>\n",
       "    <tr>\n",
       "      <th>1</th>\n",
       "      <td>11133</td>\n",
       "      <td>F</td>\n",
       "      <td>1975</td>\n",
       "      <td>1</td>\n",
       "      <td>Yes</td>\n",
       "      <td>2019</td>\n",
       "      <td>N</td>\n",
       "    </tr>\n",
       "    <tr>\n",
       "      <th>2</th>\n",
       "      <td>10332</td>\n",
       "      <td>F</td>\n",
       "      <td>1978</td>\n",
       "      <td>2</td>\n",
       "      <td>Yes</td>\n",
       "      <td>2019</td>\n",
       "      <td>N</td>\n",
       "    </tr>\n",
       "    <tr>\n",
       "      <th>3</th>\n",
       "      <td>10349</td>\n",
       "      <td>F</td>\n",
       "      <td>1976</td>\n",
       "      <td>3</td>\n",
       "      <td>Yes</td>\n",
       "      <td>2024</td>\n",
       "      <td>N</td>\n",
       "    </tr>\n",
       "    <tr>\n",
       "      <th>4</th>\n",
       "      <td>1394</td>\n",
       "      <td>F</td>\n",
       "      <td>1984</td>\n",
       "      <td>4</td>\n",
       "      <td>Yes</td>\n",
       "      <td>2021</td>\n",
       "      <td>N</td>\n",
       "    </tr>\n",
       "  </tbody>\n",
       "</table>\n",
       "</div>"
      ],
      "text/plain": [
       "   Task Executer Sex  BirthYear  Role ID Is Manager  OrgUnitSince IsOutSourcer\n",
       "0           1872   F       1988        1        Yes          2024            N\n",
       "1          11133   F       1975        1        Yes          2019            N\n",
       "2          10332   F       1978        2        Yes          2019            N\n",
       "3          10349   F       1976        3        Yes          2024            N\n",
       "4           1394   F       1984        4        Yes          2021            N"
      ]
     },
     "execution_count": 21,
     "metadata": {},
     "output_type": "execute_result"
    }
   ],
   "source": [
    "ds_user_info.head()"
   ]
  },
  {
   "cell_type": "code",
   "execution_count": 22,
   "id": "43b953ce",
   "metadata": {},
   "outputs": [
    {
     "name": "stdout",
     "output_type": "stream",
     "text": [
      "<class 'pandas.core.frame.DataFrame'>\n",
      "RangeIndex: 11370 entries, 0 to 11369\n",
      "Data columns (total 7 columns):\n",
      " #   Column         Non-Null Count  Dtype \n",
      "---  ------         --------------  ----- \n",
      " 0   Task Executer  11370 non-null  int64 \n",
      " 1   Sex            11370 non-null  object\n",
      " 2   BirthYear      11370 non-null  int64 \n",
      " 3   Role ID        11370 non-null  int64 \n",
      " 4   Is Manager     11370 non-null  object\n",
      " 5   OrgUnitSince   11370 non-null  int64 \n",
      " 6   IsOutSourcer   11370 non-null  object\n",
      "dtypes: int64(4), object(3)\n",
      "memory usage: 621.9+ KB\n"
     ]
    }
   ],
   "source": [
    "ds_user_info.info()"
   ]
  },
  {
   "cell_type": "code",
   "execution_count": 23,
   "id": "57bb1d91",
   "metadata": {},
   "outputs": [
    {
     "data": {
      "text/plain": [
       "Task Executer    0\n",
       "Sex              0\n",
       "BirthYear        0\n",
       "Role ID          0\n",
       "Is Manager       0\n",
       "OrgUnitSince     0\n",
       "IsOutSourcer     0\n",
       "dtype: int64"
      ]
     },
     "execution_count": 23,
     "metadata": {},
     "output_type": "execute_result"
    }
   ],
   "source": [
    "# Check for nulls\n",
    "ds_user_info.isnull().sum()"
   ]
  },
  {
   "cell_type": "code",
   "execution_count": 24,
   "id": "c21e0bf1",
   "metadata": {},
   "outputs": [
    {
     "data": {
      "text/plain": [
       "24"
      ]
     },
     "execution_count": 24,
     "metadata": {},
     "output_type": "execute_result"
    }
   ],
   "source": [
    "# Check for duplicates\n",
    "ds_user_info.duplicated().sum()"
   ]
  },
  {
   "cell_type": "code",
   "execution_count": 25,
   "id": "5604942b",
   "metadata": {
    "scrolled": false
   },
   "outputs": [
    {
     "data": {
      "text/plain": [
       "0"
      ]
     },
     "execution_count": 25,
     "metadata": {},
     "output_type": "execute_result"
    }
   ],
   "source": [
    "# Remove duplicates\n",
    "ds_user_info.drop_duplicates(inplace=True)\n",
    "ds_user_info.duplicated().sum()"
   ]
  },
  {
   "cell_type": "code",
   "execution_count": 26,
   "id": "8727f21f",
   "metadata": {},
   "outputs": [
    {
     "data": {
      "text/plain": [
       "7779     6\n",
       "7457     5\n",
       "6955     5\n",
       "1341     5\n",
       "1728     5\n",
       "        ..\n",
       "10606    1\n",
       "8650     1\n",
       "8172     1\n",
       "8557     1\n",
       "1257     1\n",
       "Name: Task Executer, Length: 11274, dtype: int64"
      ]
     },
     "execution_count": 26,
     "metadata": {},
     "output_type": "execute_result"
    }
   ],
   "source": [
    "ds_user_info['Task Executer'].value_counts()"
   ]
  },
  {
   "cell_type": "code",
   "execution_count": 27,
   "id": "7f3d729c",
   "metadata": {},
   "outputs": [
    {
     "name": "stdout",
     "output_type": "stream",
     "text": [
      "       Task Executer Sex  BirthYear  Role ID Is Manager  OrgUnitSince  \\\n",
      "1390            1728   M       1963       74        Yes          2022   \n",
      "5420            1728   M       1963       80        Yes          2018   \n",
      "7106            1728   M       1963       73        Yes          2022   \n",
      "9970            1728   M       1963       75        Yes          2022   \n",
      "10020           1728   M       1963       71        Yes          2018   \n",
      "\n",
      "      IsOutSourcer  \n",
      "1390             N  \n",
      "5420             N  \n",
      "7106             N  \n",
      "9970             N  \n",
      "10020            N  \n"
     ]
    }
   ],
   "source": [
    "# Rows with task executer 1728 for example\n",
    "task_executer_1728 = ds_user_info[ds_user_info['Task Executer'] == 1728]\n",
    "print(task_executer_1728)"
   ]
  },
  {
   "cell_type": "code",
   "execution_count": 28,
   "id": "0fb85daf",
   "metadata": {},
   "outputs": [],
   "source": [
    "# pa isto n faz sentido nenhum, n percebi\n",
    "# os numeros que aparecem varias vezes acho q nao estao na ds_task_execution"
   ]
  },
  {
   "cell_type": "code",
   "execution_count": null,
   "id": "71fcff23",
   "metadata": {},
   "outputs": [],
   "source": []
  },
  {
   "cell_type": "markdown",
   "id": "d2fe975e",
   "metadata": {},
   "source": [
    "### 1.3. Specific Request"
   ]
  },
  {
   "cell_type": "code",
   "execution_count": 29,
   "id": "f4213196",
   "metadata": {},
   "outputs": [
    {
     "data": {
      "text/html": [
       "<div>\n",
       "<style scoped>\n",
       "    .dataframe tbody tr th:only-of-type {\n",
       "        vertical-align: middle;\n",
       "    }\n",
       "\n",
       "    .dataframe tbody tr th {\n",
       "        vertical-align: top;\n",
       "    }\n",
       "\n",
       "    .dataframe thead th {\n",
       "        text-align: right;\n",
       "    }\n",
       "</style>\n",
       "<table border=\"1\" class=\"dataframe\">\n",
       "  <thead>\n",
       "    <tr style=\"text-align: right;\">\n",
       "      <th></th>\n",
       "      <th>idField</th>\n",
       "      <th>Request Identifier</th>\n",
       "      <th>Value</th>\n",
       "    </tr>\n",
       "  </thead>\n",
       "  <tbody>\n",
       "    <tr>\n",
       "      <th>0</th>\n",
       "      <td>47</td>\n",
       "      <td>328</td>\n",
       "      <td>0</td>\n",
       "    </tr>\n",
       "    <tr>\n",
       "      <th>1</th>\n",
       "      <td>47</td>\n",
       "      <td>327</td>\n",
       "      <td>0</td>\n",
       "    </tr>\n",
       "    <tr>\n",
       "      <th>2</th>\n",
       "      <td>47</td>\n",
       "      <td>291</td>\n",
       "      <td>0</td>\n",
       "    </tr>\n",
       "    <tr>\n",
       "      <th>3</th>\n",
       "      <td>47</td>\n",
       "      <td>289</td>\n",
       "      <td>0</td>\n",
       "    </tr>\n",
       "    <tr>\n",
       "      <th>4</th>\n",
       "      <td>47</td>\n",
       "      <td>219</td>\n",
       "      <td>0</td>\n",
       "    </tr>\n",
       "  </tbody>\n",
       "</table>\n",
       "</div>"
      ],
      "text/plain": [
       "   idField  Request Identifier Value\n",
       "0       47                 328     0\n",
       "1       47                 327     0\n",
       "2       47                 291     0\n",
       "3       47                 289     0\n",
       "4       47                 219     0"
      ]
     },
     "execution_count": 29,
     "metadata": {},
     "output_type": "execute_result"
    }
   ],
   "source": [
    "ds_specific_request.head()"
   ]
  },
  {
   "cell_type": "code",
   "execution_count": 30,
   "id": "86903b9d",
   "metadata": {},
   "outputs": [
    {
     "name": "stdout",
     "output_type": "stream",
     "text": [
      "<class 'pandas.core.frame.DataFrame'>\n",
      "RangeIndex: 297556 entries, 0 to 297555\n",
      "Data columns (total 3 columns):\n",
      " #   Column              Non-Null Count   Dtype \n",
      "---  ------              --------------   ----- \n",
      " 0   idField             297556 non-null  int64 \n",
      " 1   Request Identifier  297556 non-null  int64 \n",
      " 2   Value               297556 non-null  object\n",
      "dtypes: int64(2), object(1)\n",
      "memory usage: 6.8+ MB\n"
     ]
    }
   ],
   "source": [
    "ds_specific_request.info()"
   ]
  },
  {
   "cell_type": "code",
   "execution_count": 31,
   "id": "e65db9c0",
   "metadata": {},
   "outputs": [
    {
     "data": {
      "text/plain": [
       "idField               0\n",
       "Request Identifier    0\n",
       "Value                 0\n",
       "dtype: int64"
      ]
     },
     "execution_count": 31,
     "metadata": {},
     "output_type": "execute_result"
    }
   ],
   "source": [
    "# Check for nulls\n",
    "ds_specific_request.isnull().sum()"
   ]
  },
  {
   "cell_type": "code",
   "execution_count": 32,
   "id": "3298deae",
   "metadata": {},
   "outputs": [
    {
     "data": {
      "text/plain": [
       "0"
      ]
     },
     "execution_count": 32,
     "metadata": {},
     "output_type": "execute_result"
    }
   ],
   "source": [
    "# Check for duplicates\n",
    "ds_specific_request.duplicated().sum()"
   ]
  },
  {
   "cell_type": "code",
   "execution_count": 33,
   "id": "323753b7",
   "metadata": {},
   "outputs": [
    {
     "data": {
      "text/plain": [
       "328      10\n",
       "4282     10\n",
       "3525     10\n",
       "3480     10\n",
       "3445     10\n",
       "         ..\n",
       "20478     4\n",
       "20376     4\n",
       "22208     4\n",
       "21248     4\n",
       "37102     4\n",
       "Name: Request Identifier, Length: 45772, dtype: int64"
      ]
     },
     "execution_count": 33,
     "metadata": {},
     "output_type": "execute_result"
    }
   ],
   "source": [
    "ds_specific_request['Request Identifier'].value_counts()"
   ]
  },
  {
   "cell_type": "code",
   "execution_count": 34,
   "id": "9cbca926",
   "metadata": {},
   "outputs": [
    {
     "name": "stdout",
     "output_type": "stream",
     "text": [
      "        idField  Request Identifier                     Value\n",
      "0            47                 328                         0\n",
      "16         1602                 328                         0\n",
      "88978      3491                 328                        10\n",
      "89147      3420                 328                        10\n",
      "89476      3486                 328                        10\n",
      "89856      3388                 328                        10\n",
      "90166      3390                 328                        10\n",
      "90544      3391                 328                        10\n",
      "139116      203                 328  2022-05-08T23:00:00.000Z\n",
      "290060     1604                 328                        80\n"
     ]
    }
   ],
   "source": [
    "# Rows with Request Identifier 328 for example\n",
    "request_identifier_328 = ds_specific_request[ds_specific_request['Request Identifier'] == 328]\n",
    "print(request_identifier_328)"
   ]
  },
  {
   "cell_type": "code",
   "execution_count": null,
   "id": "dbba26e0",
   "metadata": {},
   "outputs": [],
   "source": []
  },
  {
   "cell_type": "markdown",
   "id": "a48b1ac3",
   "metadata": {},
   "source": [
    "### 1.4. Rejections"
   ]
  },
  {
   "cell_type": "code",
   "execution_count": 35,
   "id": "e93e6007",
   "metadata": {},
   "outputs": [
    {
     "data": {
      "text/html": [
       "<div>\n",
       "<style scoped>\n",
       "    .dataframe tbody tr th:only-of-type {\n",
       "        vertical-align: middle;\n",
       "    }\n",
       "\n",
       "    .dataframe tbody tr th {\n",
       "        vertical-align: top;\n",
       "    }\n",
       "\n",
       "    .dataframe thead th {\n",
       "        text-align: right;\n",
       "    }\n",
       "</style>\n",
       "<table border=\"1\" class=\"dataframe\">\n",
       "  <thead>\n",
       "    <tr style=\"text-align: right;\">\n",
       "      <th></th>\n",
       "      <th>Task Id</th>\n",
       "      <th>idBPMRequirement</th>\n",
       "    </tr>\n",
       "  </thead>\n",
       "  <tbody>\n",
       "    <tr>\n",
       "      <th>0</th>\n",
       "      <td>1606251</td>\n",
       "      <td>191</td>\n",
       "    </tr>\n",
       "    <tr>\n",
       "      <th>1</th>\n",
       "      <td>1606786</td>\n",
       "      <td>183</td>\n",
       "    </tr>\n",
       "    <tr>\n",
       "      <th>2</th>\n",
       "      <td>1629944</td>\n",
       "      <td>183</td>\n",
       "    </tr>\n",
       "    <tr>\n",
       "      <th>3</th>\n",
       "      <td>1643257</td>\n",
       "      <td>183</td>\n",
       "    </tr>\n",
       "    <tr>\n",
       "      <th>4</th>\n",
       "      <td>1643929</td>\n",
       "      <td>183</td>\n",
       "    </tr>\n",
       "  </tbody>\n",
       "</table>\n",
       "</div>"
      ],
      "text/plain": [
       "   Task Id  idBPMRequirement\n",
       "0  1606251               191\n",
       "1  1606786               183\n",
       "2  1629944               183\n",
       "3  1643257               183\n",
       "4  1643929               183"
      ]
     },
     "execution_count": 35,
     "metadata": {},
     "output_type": "execute_result"
    }
   ],
   "source": [
    "ds_rejections.head()"
   ]
  },
  {
   "cell_type": "code",
   "execution_count": 36,
   "id": "9d513079",
   "metadata": {},
   "outputs": [
    {
     "name": "stdout",
     "output_type": "stream",
     "text": [
      "<class 'pandas.core.frame.DataFrame'>\n",
      "RangeIndex: 4099 entries, 0 to 4098\n",
      "Data columns (total 2 columns):\n",
      " #   Column            Non-Null Count  Dtype\n",
      "---  ------            --------------  -----\n",
      " 0   Task Id           4099 non-null   int64\n",
      " 1   idBPMRequirement  4099 non-null   int64\n",
      "dtypes: int64(2)\n",
      "memory usage: 64.2 KB\n"
     ]
    }
   ],
   "source": [
    "ds_rejections.info()"
   ]
  },
  {
   "cell_type": "code",
   "execution_count": 37,
   "id": "de55c90f",
   "metadata": {},
   "outputs": [
    {
     "data": {
      "text/plain": [
       "Task Id             0\n",
       "idBPMRequirement    0\n",
       "dtype: int64"
      ]
     },
     "execution_count": 37,
     "metadata": {},
     "output_type": "execute_result"
    }
   ],
   "source": [
    "# Check for nulls\n",
    "ds_rejections.isnull().sum()"
   ]
  },
  {
   "cell_type": "code",
   "execution_count": 38,
   "id": "774f3eda",
   "metadata": {},
   "outputs": [
    {
     "data": {
      "text/plain": [
       "0"
      ]
     },
     "execution_count": 38,
     "metadata": {},
     "output_type": "execute_result"
    }
   ],
   "source": [
    "# Check for duplicates\n",
    "ds_rejections.duplicated().sum()"
   ]
  },
  {
   "cell_type": "code",
   "execution_count": 39,
   "id": "7aaf5604",
   "metadata": {},
   "outputs": [
    {
     "data": {
      "text/plain": [
       "1654061    7\n",
       "1647860    6\n",
       "1925405    2\n",
       "2999956    2\n",
       "3139691    2\n",
       "          ..\n",
       "3266189    1\n",
       "3266202    1\n",
       "3266928    1\n",
       "3267685    1\n",
       "6636734    1\n",
       "Name: Task Id, Length: 4056, dtype: int64"
      ]
     },
     "execution_count": 39,
     "metadata": {},
     "output_type": "execute_result"
    }
   ],
   "source": [
    "ds_rejections['Task Id'].value_counts()"
   ]
  },
  {
   "cell_type": "code",
   "execution_count": 40,
   "id": "c91b8739",
   "metadata": {},
   "outputs": [
    {
     "name": "stdout",
     "output_type": "stream",
     "text": [
      "    Task Id  idBPMRequirement\n",
      "20  1654061               183\n",
      "21  1654061               191\n",
      "22  1654061               300\n",
      "23  1654061               331\n",
      "24  1654061               353\n",
      "25  1654061               661\n",
      "26  1654061              1436\n"
     ]
    }
   ],
   "source": [
    "# Rows with Task Id 1654061 for example\n",
    "task_id_1654061 = ds_rejections[ds_rejections['Task Id'] == 1654061]\n",
    "print(task_id_1654061)"
   ]
  },
  {
   "cell_type": "code",
   "execution_count": null,
   "id": "d8966648",
   "metadata": {},
   "outputs": [],
   "source": []
  },
  {
   "cell_type": "markdown",
   "id": "21b37088",
   "metadata": {},
   "source": [
    "### 1.5. Aggregate the datasets ?"
   ]
  },
  {
   "cell_type": "code",
   "execution_count": 41,
   "id": "d571cb94",
   "metadata": {},
   "outputs": [
    {
     "data": {
      "text/html": [
       "<div>\n",
       "<style scoped>\n",
       "    .dataframe tbody tr th:only-of-type {\n",
       "        vertical-align: middle;\n",
       "    }\n",
       "\n",
       "    .dataframe tbody tr th {\n",
       "        vertical-align: top;\n",
       "    }\n",
       "\n",
       "    .dataframe thead th {\n",
       "        text-align: right;\n",
       "    }\n",
       "</style>\n",
       "<table border=\"1\" class=\"dataframe\">\n",
       "  <thead>\n",
       "    <tr style=\"text-align: right;\">\n",
       "      <th></th>\n",
       "      <th>Task Id</th>\n",
       "      <th>Request Identifier</th>\n",
       "      <th>Task arrival date</th>\n",
       "      <th>Task capture date</th>\n",
       "      <th>Task execution end date</th>\n",
       "      <th>Task predicted end date</th>\n",
       "      <th>Activity ID</th>\n",
       "      <th>Task Executer</th>\n",
       "      <th>Task executer department</th>\n",
       "      <th>Task Type</th>\n",
       "      <th>Action</th>\n",
       "      <th>idBPMApplicationAction</th>\n",
       "      <th>Last Activity ID</th>\n",
       "      <th>Output</th>\n",
       "      <th>Sex</th>\n",
       "      <th>BirthYear</th>\n",
       "      <th>Role ID</th>\n",
       "      <th>Is Manager</th>\n",
       "      <th>OrgUnitSince</th>\n",
       "      <th>IsOutSourcer</th>\n",
       "    </tr>\n",
       "  </thead>\n",
       "  <tbody>\n",
       "    <tr>\n",
       "      <th>0</th>\n",
       "      <td>1584303</td>\n",
       "      <td>1</td>\n",
       "      <td>2022-04-11 16:02:13.820</td>\n",
       "      <td>2022-04-11 16:02:13.820</td>\n",
       "      <td>2022-04-11 16:02:13.820</td>\n",
       "      <td>NaN</td>\n",
       "      <td>100</td>\n",
       "      <td>7638.0</td>\n",
       "      <td>569.0</td>\n",
       "      <td>Initial Request</td>\n",
       "      <td>Submit initial request</td>\n",
       "      <td>270</td>\n",
       "      <td>107</td>\n",
       "      <td>Request Finished</td>\n",
       "      <td>M</td>\n",
       "      <td>1967.0</td>\n",
       "      <td>5.0</td>\n",
       "      <td>Yes</td>\n",
       "      <td>2021.0</td>\n",
       "      <td>N</td>\n",
       "    </tr>\n",
       "    <tr>\n",
       "      <th>1</th>\n",
       "      <td>1584304</td>\n",
       "      <td>1</td>\n",
       "      <td>2022-04-11 16:02:14.743</td>\n",
       "      <td>2022-04-12 09:29:40.683</td>\n",
       "      <td>2022-04-12 10:02:54.687</td>\n",
       "      <td>2022-04-12 14:02:14.803</td>\n",
       "      <td>102</td>\n",
       "      <td>4322.0</td>\n",
       "      <td>1104.0</td>\n",
       "      <td>Execution</td>\n",
       "      <td>NaN</td>\n",
       "      <td>273</td>\n",
       "      <td>107</td>\n",
       "      <td>Request Finished</td>\n",
       "      <td>F</td>\n",
       "      <td>1967.0</td>\n",
       "      <td>21.0</td>\n",
       "      <td>No</td>\n",
       "      <td>2024.0</td>\n",
       "      <td>Y</td>\n",
       "    </tr>\n",
       "    <tr>\n",
       "      <th>2</th>\n",
       "      <td>1585980</td>\n",
       "      <td>1</td>\n",
       "      <td>2022-04-12 10:02:55.530</td>\n",
       "      <td>2022-04-12 10:14:39.290</td>\n",
       "      <td>2022-04-12 10:17:16.050</td>\n",
       "      <td>2022-04-12 17:02:55.577</td>\n",
       "      <td>103</td>\n",
       "      <td>10606.0</td>\n",
       "      <td>NaN</td>\n",
       "      <td>Execution</td>\n",
       "      <td>NaN</td>\n",
       "      <td>273</td>\n",
       "      <td>107</td>\n",
       "      <td>Request Finished</td>\n",
       "      <td>F</td>\n",
       "      <td>1975.0</td>\n",
       "      <td>11.0</td>\n",
       "      <td>Yes</td>\n",
       "      <td>2023.0</td>\n",
       "      <td>N</td>\n",
       "    </tr>\n",
       "    <tr>\n",
       "      <th>3</th>\n",
       "      <td>1586077</td>\n",
       "      <td>1</td>\n",
       "      <td>2022-04-12 10:17:16.427</td>\n",
       "      <td>2022-04-12 10:22:47.610</td>\n",
       "      <td>2022-05-10 13:43:32.203</td>\n",
       "      <td>2022-04-12 17:17:16.490</td>\n",
       "      <td>104</td>\n",
       "      <td>7638.0</td>\n",
       "      <td>569.0</td>\n",
       "      <td>Execution</td>\n",
       "      <td>Task executed with success</td>\n",
       "      <td>282</td>\n",
       "      <td>107</td>\n",
       "      <td>Request Finished</td>\n",
       "      <td>M</td>\n",
       "      <td>1967.0</td>\n",
       "      <td>5.0</td>\n",
       "      <td>Yes</td>\n",
       "      <td>2021.0</td>\n",
       "      <td>N</td>\n",
       "    </tr>\n",
       "    <tr>\n",
       "      <th>4</th>\n",
       "      <td>1671448</td>\n",
       "      <td>1</td>\n",
       "      <td>2022-05-10 13:43:32.627</td>\n",
       "      <td>2022-05-10 13:47:53.570</td>\n",
       "      <td>2022-05-10 13:48:44.353</td>\n",
       "      <td>2022-05-17 08:43:32.737</td>\n",
       "      <td>107</td>\n",
       "      <td>7638.0</td>\n",
       "      <td>569.0</td>\n",
       "      <td>Final task</td>\n",
       "      <td>Request accepted by requester</td>\n",
       "      <td>299</td>\n",
       "      <td>107</td>\n",
       "      <td>Request Finished</td>\n",
       "      <td>M</td>\n",
       "      <td>1967.0</td>\n",
       "      <td>5.0</td>\n",
       "      <td>Yes</td>\n",
       "      <td>2021.0</td>\n",
       "      <td>N</td>\n",
       "    </tr>\n",
       "  </tbody>\n",
       "</table>\n",
       "</div>"
      ],
      "text/plain": [
       "   Task Id  Request Identifier        Task arrival date  \\\n",
       "0  1584303                   1  2022-04-11 16:02:13.820   \n",
       "1  1584304                   1  2022-04-11 16:02:14.743   \n",
       "2  1585980                   1  2022-04-12 10:02:55.530   \n",
       "3  1586077                   1  2022-04-12 10:17:16.427   \n",
       "4  1671448                   1  2022-05-10 13:43:32.627   \n",
       "\n",
       "         Task capture date  Task execution end date  Task predicted end date  \\\n",
       "0  2022-04-11 16:02:13.820  2022-04-11 16:02:13.820                      NaN   \n",
       "1  2022-04-12 09:29:40.683  2022-04-12 10:02:54.687  2022-04-12 14:02:14.803   \n",
       "2  2022-04-12 10:14:39.290  2022-04-12 10:17:16.050  2022-04-12 17:02:55.577   \n",
       "3  2022-04-12 10:22:47.610  2022-05-10 13:43:32.203  2022-04-12 17:17:16.490   \n",
       "4  2022-05-10 13:47:53.570  2022-05-10 13:48:44.353  2022-05-17 08:43:32.737   \n",
       "\n",
       "   Activity ID  Task Executer  Task executer department        Task Type  \\\n",
       "0          100         7638.0                     569.0  Initial Request   \n",
       "1          102         4322.0                    1104.0        Execution   \n",
       "2          103        10606.0                       NaN        Execution   \n",
       "3          104         7638.0                     569.0        Execution   \n",
       "4          107         7638.0                     569.0       Final task   \n",
       "\n",
       "                          Action  idBPMApplicationAction  Last Activity ID  \\\n",
       "0         Submit initial request                     270               107   \n",
       "1                            NaN                     273               107   \n",
       "2                            NaN                     273               107   \n",
       "3     Task executed with success                     282               107   \n",
       "4  Request accepted by requester                     299               107   \n",
       "\n",
       "             Output Sex  BirthYear  Role ID Is Manager  OrgUnitSince  \\\n",
       "0  Request Finished   M     1967.0      5.0        Yes        2021.0   \n",
       "1  Request Finished   F     1967.0     21.0         No        2024.0   \n",
       "2  Request Finished   F     1975.0     11.0        Yes        2023.0   \n",
       "3  Request Finished   M     1967.0      5.0        Yes        2021.0   \n",
       "4  Request Finished   M     1967.0      5.0        Yes        2021.0   \n",
       "\n",
       "  IsOutSourcer  \n",
       "0            N  \n",
       "1            Y  \n",
       "2            N  \n",
       "3            N  \n",
       "4            N  "
      ]
     },
     "execution_count": 41,
     "metadata": {},
     "output_type": "execute_result"
    }
   ],
   "source": [
    "# Merge the Task Execution with the User Information by Task Executer\n",
    "ds_joined = pd.merge(ds_task_execution, ds_user_info, on='Task Executer', how='left')\n",
    "ds_joined.head()"
   ]
  },
  {
   "cell_type": "code",
   "execution_count": 42,
   "id": "edd8371a",
   "metadata": {},
   "outputs": [
    {
     "data": {
      "text/plain": [
       "(209017, 20)"
      ]
     },
     "execution_count": 42,
     "metadata": {},
     "output_type": "execute_result"
    }
   ],
   "source": [
    "ds_joined.shape"
   ]
  },
  {
   "cell_type": "code",
   "execution_count": 43,
   "id": "7f65ad1a",
   "metadata": {},
   "outputs": [
    {
     "data": {
      "text/html": [
       "<div>\n",
       "<style scoped>\n",
       "    .dataframe tbody tr th:only-of-type {\n",
       "        vertical-align: middle;\n",
       "    }\n",
       "\n",
       "    .dataframe tbody tr th {\n",
       "        vertical-align: top;\n",
       "    }\n",
       "\n",
       "    .dataframe thead th {\n",
       "        text-align: right;\n",
       "    }\n",
       "</style>\n",
       "<table border=\"1\" class=\"dataframe\">\n",
       "  <thead>\n",
       "    <tr style=\"text-align: right;\">\n",
       "      <th></th>\n",
       "      <th>Request Identifier</th>\n",
       "      <th>idField</th>\n",
       "      <th>Value</th>\n",
       "    </tr>\n",
       "  </thead>\n",
       "  <tbody>\n",
       "    <tr>\n",
       "      <th>0</th>\n",
       "      <td>1</td>\n",
       "      <td>1602,47,3486,3491,3388,3391,3420,203,1604</td>\n",
       "      <td>1,1,10,10,10,10,20,2022-04-10T23:00:00.000Z,90</td>\n",
       "    </tr>\n",
       "    <tr>\n",
       "      <th>1</th>\n",
       "      <td>2</td>\n",
       "      <td>3486,3491,3388,3390,3391,3420,203</td>\n",
       "      <td>10,10,10,10,10,20,2022-04-11T23:00:00.000Z</td>\n",
       "    </tr>\n",
       "    <tr>\n",
       "      <th>2</th>\n",
       "      <td>3</td>\n",
       "      <td>3390,3420,203,3388,3486</td>\n",
       "      <td>10,10,2022-04-11T23:00:00.000Z,30,30</td>\n",
       "    </tr>\n",
       "    <tr>\n",
       "      <th>3</th>\n",
       "      <td>4</td>\n",
       "      <td>3486,3388,3390,3420,203</td>\n",
       "      <td>10,10,10,20,2022-04-12T23:00:00.000Z</td>\n",
       "    </tr>\n",
       "    <tr>\n",
       "      <th>4</th>\n",
       "      <td>5</td>\n",
       "      <td>3391,3420,3491,3388,203,3390,3486</td>\n",
       "      <td>10,10,20,20,2022-04-05T23:00:00.000Z,30,30</td>\n",
       "    </tr>\n",
       "  </tbody>\n",
       "</table>\n",
       "</div>"
      ],
      "text/plain": [
       "   Request Identifier                                    idField  \\\n",
       "0                   1  1602,47,3486,3491,3388,3391,3420,203,1604   \n",
       "1                   2          3486,3491,3388,3390,3391,3420,203   \n",
       "2                   3                    3390,3420,203,3388,3486   \n",
       "3                   4                    3486,3388,3390,3420,203   \n",
       "4                   5          3391,3420,3491,3388,203,3390,3486   \n",
       "\n",
       "                                            Value  \n",
       "0  1,1,10,10,10,10,20,2022-04-10T23:00:00.000Z,90  \n",
       "1      10,10,10,10,10,20,2022-04-11T23:00:00.000Z  \n",
       "2            10,10,2022-04-11T23:00:00.000Z,30,30  \n",
       "3            10,10,10,20,2022-04-12T23:00:00.000Z  \n",
       "4      10,10,20,20,2022-04-05T23:00:00.000Z,30,30  "
      ]
     },
     "execution_count": 43,
     "metadata": {},
     "output_type": "execute_result"
    }
   ],
   "source": [
    "# Aggregate the columns 'idField' and 'Value' from ds_specific_request to merge with ds_joined\n",
    "ds_specific_request_aggregated = ds_specific_request.groupby('Request Identifier').agg({\n",
    "    'idField': lambda x: ','.join(map(str, x)),\n",
    "    'Value': lambda x: ','.join(map(str, x))\n",
    "}).reset_index()\n",
    "\n",
    "ds_specific_request_aggregated.head()"
   ]
  },
  {
   "cell_type": "code",
   "execution_count": 44,
   "id": "c4c8e144",
   "metadata": {},
   "outputs": [
    {
     "data": {
      "text/html": [
       "<div>\n",
       "<style scoped>\n",
       "    .dataframe tbody tr th:only-of-type {\n",
       "        vertical-align: middle;\n",
       "    }\n",
       "\n",
       "    .dataframe tbody tr th {\n",
       "        vertical-align: top;\n",
       "    }\n",
       "\n",
       "    .dataframe thead th {\n",
       "        text-align: right;\n",
       "    }\n",
       "</style>\n",
       "<table border=\"1\" class=\"dataframe\">\n",
       "  <thead>\n",
       "    <tr style=\"text-align: right;\">\n",
       "      <th></th>\n",
       "      <th>Task Id</th>\n",
       "      <th>Request Identifier</th>\n",
       "      <th>Task arrival date</th>\n",
       "      <th>Task capture date</th>\n",
       "      <th>Task execution end date</th>\n",
       "      <th>Task predicted end date</th>\n",
       "      <th>Activity ID</th>\n",
       "      <th>Task Executer</th>\n",
       "      <th>Task executer department</th>\n",
       "      <th>Task Type</th>\n",
       "      <th>...</th>\n",
       "      <th>Last Activity ID</th>\n",
       "      <th>Output</th>\n",
       "      <th>Sex</th>\n",
       "      <th>BirthYear</th>\n",
       "      <th>Role ID</th>\n",
       "      <th>Is Manager</th>\n",
       "      <th>OrgUnitSince</th>\n",
       "      <th>IsOutSourcer</th>\n",
       "      <th>idField</th>\n",
       "      <th>Value</th>\n",
       "    </tr>\n",
       "  </thead>\n",
       "  <tbody>\n",
       "    <tr>\n",
       "      <th>0</th>\n",
       "      <td>1584303</td>\n",
       "      <td>1</td>\n",
       "      <td>2022-04-11 16:02:13.820</td>\n",
       "      <td>2022-04-11 16:02:13.820</td>\n",
       "      <td>2022-04-11 16:02:13.820</td>\n",
       "      <td>NaN</td>\n",
       "      <td>100</td>\n",
       "      <td>7638.0</td>\n",
       "      <td>569.0</td>\n",
       "      <td>Initial Request</td>\n",
       "      <td>...</td>\n",
       "      <td>107</td>\n",
       "      <td>Request Finished</td>\n",
       "      <td>M</td>\n",
       "      <td>1967.0</td>\n",
       "      <td>5.0</td>\n",
       "      <td>Yes</td>\n",
       "      <td>2021.0</td>\n",
       "      <td>N</td>\n",
       "      <td>1602,47,3486,3491,3388,3391,3420,203,1604</td>\n",
       "      <td>1,1,10,10,10,10,20,2022-04-10T23:00:00.000Z,90</td>\n",
       "    </tr>\n",
       "    <tr>\n",
       "      <th>1</th>\n",
       "      <td>1584304</td>\n",
       "      <td>1</td>\n",
       "      <td>2022-04-11 16:02:14.743</td>\n",
       "      <td>2022-04-12 09:29:40.683</td>\n",
       "      <td>2022-04-12 10:02:54.687</td>\n",
       "      <td>2022-04-12 14:02:14.803</td>\n",
       "      <td>102</td>\n",
       "      <td>4322.0</td>\n",
       "      <td>1104.0</td>\n",
       "      <td>Execution</td>\n",
       "      <td>...</td>\n",
       "      <td>107</td>\n",
       "      <td>Request Finished</td>\n",
       "      <td>F</td>\n",
       "      <td>1967.0</td>\n",
       "      <td>21.0</td>\n",
       "      <td>No</td>\n",
       "      <td>2024.0</td>\n",
       "      <td>Y</td>\n",
       "      <td>1602,47,3486,3491,3388,3391,3420,203,1604</td>\n",
       "      <td>1,1,10,10,10,10,20,2022-04-10T23:00:00.000Z,90</td>\n",
       "    </tr>\n",
       "    <tr>\n",
       "      <th>2</th>\n",
       "      <td>1585980</td>\n",
       "      <td>1</td>\n",
       "      <td>2022-04-12 10:02:55.530</td>\n",
       "      <td>2022-04-12 10:14:39.290</td>\n",
       "      <td>2022-04-12 10:17:16.050</td>\n",
       "      <td>2022-04-12 17:02:55.577</td>\n",
       "      <td>103</td>\n",
       "      <td>10606.0</td>\n",
       "      <td>NaN</td>\n",
       "      <td>Execution</td>\n",
       "      <td>...</td>\n",
       "      <td>107</td>\n",
       "      <td>Request Finished</td>\n",
       "      <td>F</td>\n",
       "      <td>1975.0</td>\n",
       "      <td>11.0</td>\n",
       "      <td>Yes</td>\n",
       "      <td>2023.0</td>\n",
       "      <td>N</td>\n",
       "      <td>1602,47,3486,3491,3388,3391,3420,203,1604</td>\n",
       "      <td>1,1,10,10,10,10,20,2022-04-10T23:00:00.000Z,90</td>\n",
       "    </tr>\n",
       "    <tr>\n",
       "      <th>3</th>\n",
       "      <td>1586077</td>\n",
       "      <td>1</td>\n",
       "      <td>2022-04-12 10:17:16.427</td>\n",
       "      <td>2022-04-12 10:22:47.610</td>\n",
       "      <td>2022-05-10 13:43:32.203</td>\n",
       "      <td>2022-04-12 17:17:16.490</td>\n",
       "      <td>104</td>\n",
       "      <td>7638.0</td>\n",
       "      <td>569.0</td>\n",
       "      <td>Execution</td>\n",
       "      <td>...</td>\n",
       "      <td>107</td>\n",
       "      <td>Request Finished</td>\n",
       "      <td>M</td>\n",
       "      <td>1967.0</td>\n",
       "      <td>5.0</td>\n",
       "      <td>Yes</td>\n",
       "      <td>2021.0</td>\n",
       "      <td>N</td>\n",
       "      <td>1602,47,3486,3491,3388,3391,3420,203,1604</td>\n",
       "      <td>1,1,10,10,10,10,20,2022-04-10T23:00:00.000Z,90</td>\n",
       "    </tr>\n",
       "    <tr>\n",
       "      <th>4</th>\n",
       "      <td>1671448</td>\n",
       "      <td>1</td>\n",
       "      <td>2022-05-10 13:43:32.627</td>\n",
       "      <td>2022-05-10 13:47:53.570</td>\n",
       "      <td>2022-05-10 13:48:44.353</td>\n",
       "      <td>2022-05-17 08:43:32.737</td>\n",
       "      <td>107</td>\n",
       "      <td>7638.0</td>\n",
       "      <td>569.0</td>\n",
       "      <td>Final task</td>\n",
       "      <td>...</td>\n",
       "      <td>107</td>\n",
       "      <td>Request Finished</td>\n",
       "      <td>M</td>\n",
       "      <td>1967.0</td>\n",
       "      <td>5.0</td>\n",
       "      <td>Yes</td>\n",
       "      <td>2021.0</td>\n",
       "      <td>N</td>\n",
       "      <td>1602,47,3486,3491,3388,3391,3420,203,1604</td>\n",
       "      <td>1,1,10,10,10,10,20,2022-04-10T23:00:00.000Z,90</td>\n",
       "    </tr>\n",
       "  </tbody>\n",
       "</table>\n",
       "<p>5 rows × 22 columns</p>\n",
       "</div>"
      ],
      "text/plain": [
       "   Task Id  Request Identifier        Task arrival date  \\\n",
       "0  1584303                   1  2022-04-11 16:02:13.820   \n",
       "1  1584304                   1  2022-04-11 16:02:14.743   \n",
       "2  1585980                   1  2022-04-12 10:02:55.530   \n",
       "3  1586077                   1  2022-04-12 10:17:16.427   \n",
       "4  1671448                   1  2022-05-10 13:43:32.627   \n",
       "\n",
       "         Task capture date  Task execution end date  Task predicted end date  \\\n",
       "0  2022-04-11 16:02:13.820  2022-04-11 16:02:13.820                      NaN   \n",
       "1  2022-04-12 09:29:40.683  2022-04-12 10:02:54.687  2022-04-12 14:02:14.803   \n",
       "2  2022-04-12 10:14:39.290  2022-04-12 10:17:16.050  2022-04-12 17:02:55.577   \n",
       "3  2022-04-12 10:22:47.610  2022-05-10 13:43:32.203  2022-04-12 17:17:16.490   \n",
       "4  2022-05-10 13:47:53.570  2022-05-10 13:48:44.353  2022-05-17 08:43:32.737   \n",
       "\n",
       "   Activity ID  Task Executer  Task executer department        Task Type  ...  \\\n",
       "0          100         7638.0                     569.0  Initial Request  ...   \n",
       "1          102         4322.0                    1104.0        Execution  ...   \n",
       "2          103        10606.0                       NaN        Execution  ...   \n",
       "3          104         7638.0                     569.0        Execution  ...   \n",
       "4          107         7638.0                     569.0       Final task  ...   \n",
       "\n",
       "  Last Activity ID            Output  Sex BirthYear Role ID  Is Manager  \\\n",
       "0              107  Request Finished    M    1967.0     5.0         Yes   \n",
       "1              107  Request Finished    F    1967.0    21.0          No   \n",
       "2              107  Request Finished    F    1975.0    11.0         Yes   \n",
       "3              107  Request Finished    M    1967.0     5.0         Yes   \n",
       "4              107  Request Finished    M    1967.0     5.0         Yes   \n",
       "\n",
       "   OrgUnitSince IsOutSourcer                                    idField  \\\n",
       "0        2021.0            N  1602,47,3486,3491,3388,3391,3420,203,1604   \n",
       "1        2024.0            Y  1602,47,3486,3491,3388,3391,3420,203,1604   \n",
       "2        2023.0            N  1602,47,3486,3491,3388,3391,3420,203,1604   \n",
       "3        2021.0            N  1602,47,3486,3491,3388,3391,3420,203,1604   \n",
       "4        2021.0            N  1602,47,3486,3491,3388,3391,3420,203,1604   \n",
       "\n",
       "                                            Value  \n",
       "0  1,1,10,10,10,10,20,2022-04-10T23:00:00.000Z,90  \n",
       "1  1,1,10,10,10,10,20,2022-04-10T23:00:00.000Z,90  \n",
       "2  1,1,10,10,10,10,20,2022-04-10T23:00:00.000Z,90  \n",
       "3  1,1,10,10,10,10,20,2022-04-10T23:00:00.000Z,90  \n",
       "4  1,1,10,10,10,10,20,2022-04-10T23:00:00.000Z,90  \n",
       "\n",
       "[5 rows x 22 columns]"
      ]
     },
     "execution_count": 44,
     "metadata": {},
     "output_type": "execute_result"
    }
   ],
   "source": [
    "# Merge the ds_joined with the ds_specific_request_aggregated by Request Identifier\n",
    "ds_joined = pd.merge(ds_joined, ds_specific_request_aggregated, on='Request Identifier', how='left')\n",
    "ds_joined.head()"
   ]
  },
  {
   "cell_type": "code",
   "execution_count": 45,
   "id": "97544b84",
   "metadata": {},
   "outputs": [
    {
     "data": {
      "text/plain": [
       "(209017, 22)"
      ]
     },
     "execution_count": 45,
     "metadata": {},
     "output_type": "execute_result"
    }
   ],
   "source": [
    "ds_joined.shape"
   ]
  },
  {
   "cell_type": "code",
   "execution_count": 46,
   "id": "e9c0d66d",
   "metadata": {},
   "outputs": [
    {
     "data": {
      "text/html": [
       "<div>\n",
       "<style scoped>\n",
       "    .dataframe tbody tr th:only-of-type {\n",
       "        vertical-align: middle;\n",
       "    }\n",
       "\n",
       "    .dataframe tbody tr th {\n",
       "        vertical-align: top;\n",
       "    }\n",
       "\n",
       "    .dataframe thead th {\n",
       "        text-align: right;\n",
       "    }\n",
       "</style>\n",
       "<table border=\"1\" class=\"dataframe\">\n",
       "  <thead>\n",
       "    <tr style=\"text-align: right;\">\n",
       "      <th></th>\n",
       "      <th>Task Id</th>\n",
       "      <th>idBPMRequirement</th>\n",
       "    </tr>\n",
       "  </thead>\n",
       "  <tbody>\n",
       "    <tr>\n",
       "      <th>0</th>\n",
       "      <td>1606251</td>\n",
       "      <td>191</td>\n",
       "    </tr>\n",
       "    <tr>\n",
       "      <th>1</th>\n",
       "      <td>1606786</td>\n",
       "      <td>183</td>\n",
       "    </tr>\n",
       "    <tr>\n",
       "      <th>2</th>\n",
       "      <td>1629944</td>\n",
       "      <td>183</td>\n",
       "    </tr>\n",
       "    <tr>\n",
       "      <th>3</th>\n",
       "      <td>1643257</td>\n",
       "      <td>183</td>\n",
       "    </tr>\n",
       "    <tr>\n",
       "      <th>4</th>\n",
       "      <td>1643929</td>\n",
       "      <td>183</td>\n",
       "    </tr>\n",
       "  </tbody>\n",
       "</table>\n",
       "</div>"
      ],
      "text/plain": [
       "   Task Id idBPMRequirement\n",
       "0  1606251              191\n",
       "1  1606786              183\n",
       "2  1629944              183\n",
       "3  1643257              183\n",
       "4  1643929              183"
      ]
     },
     "execution_count": 46,
     "metadata": {},
     "output_type": "execute_result"
    }
   ],
   "source": [
    "# Aggregate the column 'idBPMRequirement' from ds_rejections to merge with ds_joined\n",
    "ds_rejections_aggregated = ds_rejections.groupby('Task Id').agg({\n",
    "    'idBPMRequirement': lambda x: ','.join(map(str, x))}).reset_index()\n",
    "\n",
    "ds_rejections_aggregated.head()"
   ]
  },
  {
   "cell_type": "code",
   "execution_count": 47,
   "id": "86d2c766",
   "metadata": {},
   "outputs": [
    {
     "name": "stdout",
     "output_type": "stream",
     "text": [
      "    Task Id              idBPMRequirement\n",
      "15  1654061  183,191,300,331,353,661,1436\n"
     ]
    }
   ],
   "source": [
    "# Check if the values from the column 'idBPMRequirement' are aggregated\n",
    "agg_task_id_1654061 = ds_rejections_aggregated[ds_rejections_aggregated['Task Id'] == 1654061]\n",
    "print(agg_task_id_1654061)"
   ]
  },
  {
   "cell_type": "code",
   "execution_count": 48,
   "id": "8cef08af",
   "metadata": {},
   "outputs": [
    {
     "data": {
      "text/html": [
       "<div>\n",
       "<style scoped>\n",
       "    .dataframe tbody tr th:only-of-type {\n",
       "        vertical-align: middle;\n",
       "    }\n",
       "\n",
       "    .dataframe tbody tr th {\n",
       "        vertical-align: top;\n",
       "    }\n",
       "\n",
       "    .dataframe thead th {\n",
       "        text-align: right;\n",
       "    }\n",
       "</style>\n",
       "<table border=\"1\" class=\"dataframe\">\n",
       "  <thead>\n",
       "    <tr style=\"text-align: right;\">\n",
       "      <th></th>\n",
       "      <th>Task Id</th>\n",
       "      <th>Request Identifier</th>\n",
       "      <th>Task arrival date</th>\n",
       "      <th>Task capture date</th>\n",
       "      <th>Task execution end date</th>\n",
       "      <th>Task predicted end date</th>\n",
       "      <th>Activity ID</th>\n",
       "      <th>Task Executer</th>\n",
       "      <th>Task executer department</th>\n",
       "      <th>Task Type</th>\n",
       "      <th>...</th>\n",
       "      <th>Output</th>\n",
       "      <th>Sex</th>\n",
       "      <th>BirthYear</th>\n",
       "      <th>Role ID</th>\n",
       "      <th>Is Manager</th>\n",
       "      <th>OrgUnitSince</th>\n",
       "      <th>IsOutSourcer</th>\n",
       "      <th>idField</th>\n",
       "      <th>Value</th>\n",
       "      <th>idBPMRequirement</th>\n",
       "    </tr>\n",
       "  </thead>\n",
       "  <tbody>\n",
       "    <tr>\n",
       "      <th>0</th>\n",
       "      <td>1584303</td>\n",
       "      <td>1</td>\n",
       "      <td>2022-04-11 16:02:13.820</td>\n",
       "      <td>2022-04-11 16:02:13.820</td>\n",
       "      <td>2022-04-11 16:02:13.820</td>\n",
       "      <td>NaN</td>\n",
       "      <td>100</td>\n",
       "      <td>7638.0</td>\n",
       "      <td>569.0</td>\n",
       "      <td>Initial Request</td>\n",
       "      <td>...</td>\n",
       "      <td>Request Finished</td>\n",
       "      <td>M</td>\n",
       "      <td>1967.0</td>\n",
       "      <td>5.0</td>\n",
       "      <td>Yes</td>\n",
       "      <td>2021.0</td>\n",
       "      <td>N</td>\n",
       "      <td>1602,47,3486,3491,3388,3391,3420,203,1604</td>\n",
       "      <td>1,1,10,10,10,10,20,2022-04-10T23:00:00.000Z,90</td>\n",
       "      <td>NaN</td>\n",
       "    </tr>\n",
       "    <tr>\n",
       "      <th>1</th>\n",
       "      <td>1584304</td>\n",
       "      <td>1</td>\n",
       "      <td>2022-04-11 16:02:14.743</td>\n",
       "      <td>2022-04-12 09:29:40.683</td>\n",
       "      <td>2022-04-12 10:02:54.687</td>\n",
       "      <td>2022-04-12 14:02:14.803</td>\n",
       "      <td>102</td>\n",
       "      <td>4322.0</td>\n",
       "      <td>1104.0</td>\n",
       "      <td>Execution</td>\n",
       "      <td>...</td>\n",
       "      <td>Request Finished</td>\n",
       "      <td>F</td>\n",
       "      <td>1967.0</td>\n",
       "      <td>21.0</td>\n",
       "      <td>No</td>\n",
       "      <td>2024.0</td>\n",
       "      <td>Y</td>\n",
       "      <td>1602,47,3486,3491,3388,3391,3420,203,1604</td>\n",
       "      <td>1,1,10,10,10,10,20,2022-04-10T23:00:00.000Z,90</td>\n",
       "      <td>NaN</td>\n",
       "    </tr>\n",
       "    <tr>\n",
       "      <th>2</th>\n",
       "      <td>1585980</td>\n",
       "      <td>1</td>\n",
       "      <td>2022-04-12 10:02:55.530</td>\n",
       "      <td>2022-04-12 10:14:39.290</td>\n",
       "      <td>2022-04-12 10:17:16.050</td>\n",
       "      <td>2022-04-12 17:02:55.577</td>\n",
       "      <td>103</td>\n",
       "      <td>10606.0</td>\n",
       "      <td>NaN</td>\n",
       "      <td>Execution</td>\n",
       "      <td>...</td>\n",
       "      <td>Request Finished</td>\n",
       "      <td>F</td>\n",
       "      <td>1975.0</td>\n",
       "      <td>11.0</td>\n",
       "      <td>Yes</td>\n",
       "      <td>2023.0</td>\n",
       "      <td>N</td>\n",
       "      <td>1602,47,3486,3491,3388,3391,3420,203,1604</td>\n",
       "      <td>1,1,10,10,10,10,20,2022-04-10T23:00:00.000Z,90</td>\n",
       "      <td>NaN</td>\n",
       "    </tr>\n",
       "    <tr>\n",
       "      <th>3</th>\n",
       "      <td>1586077</td>\n",
       "      <td>1</td>\n",
       "      <td>2022-04-12 10:17:16.427</td>\n",
       "      <td>2022-04-12 10:22:47.610</td>\n",
       "      <td>2022-05-10 13:43:32.203</td>\n",
       "      <td>2022-04-12 17:17:16.490</td>\n",
       "      <td>104</td>\n",
       "      <td>7638.0</td>\n",
       "      <td>569.0</td>\n",
       "      <td>Execution</td>\n",
       "      <td>...</td>\n",
       "      <td>Request Finished</td>\n",
       "      <td>M</td>\n",
       "      <td>1967.0</td>\n",
       "      <td>5.0</td>\n",
       "      <td>Yes</td>\n",
       "      <td>2021.0</td>\n",
       "      <td>N</td>\n",
       "      <td>1602,47,3486,3491,3388,3391,3420,203,1604</td>\n",
       "      <td>1,1,10,10,10,10,20,2022-04-10T23:00:00.000Z,90</td>\n",
       "      <td>NaN</td>\n",
       "    </tr>\n",
       "    <tr>\n",
       "      <th>4</th>\n",
       "      <td>1671448</td>\n",
       "      <td>1</td>\n",
       "      <td>2022-05-10 13:43:32.627</td>\n",
       "      <td>2022-05-10 13:47:53.570</td>\n",
       "      <td>2022-05-10 13:48:44.353</td>\n",
       "      <td>2022-05-17 08:43:32.737</td>\n",
       "      <td>107</td>\n",
       "      <td>7638.0</td>\n",
       "      <td>569.0</td>\n",
       "      <td>Final task</td>\n",
       "      <td>...</td>\n",
       "      <td>Request Finished</td>\n",
       "      <td>M</td>\n",
       "      <td>1967.0</td>\n",
       "      <td>5.0</td>\n",
       "      <td>Yes</td>\n",
       "      <td>2021.0</td>\n",
       "      <td>N</td>\n",
       "      <td>1602,47,3486,3491,3388,3391,3420,203,1604</td>\n",
       "      <td>1,1,10,10,10,10,20,2022-04-10T23:00:00.000Z,90</td>\n",
       "      <td>NaN</td>\n",
       "    </tr>\n",
       "  </tbody>\n",
       "</table>\n",
       "<p>5 rows × 23 columns</p>\n",
       "</div>"
      ],
      "text/plain": [
       "   Task Id  Request Identifier        Task arrival date  \\\n",
       "0  1584303                   1  2022-04-11 16:02:13.820   \n",
       "1  1584304                   1  2022-04-11 16:02:14.743   \n",
       "2  1585980                   1  2022-04-12 10:02:55.530   \n",
       "3  1586077                   1  2022-04-12 10:17:16.427   \n",
       "4  1671448                   1  2022-05-10 13:43:32.627   \n",
       "\n",
       "         Task capture date  Task execution end date  Task predicted end date  \\\n",
       "0  2022-04-11 16:02:13.820  2022-04-11 16:02:13.820                      NaN   \n",
       "1  2022-04-12 09:29:40.683  2022-04-12 10:02:54.687  2022-04-12 14:02:14.803   \n",
       "2  2022-04-12 10:14:39.290  2022-04-12 10:17:16.050  2022-04-12 17:02:55.577   \n",
       "3  2022-04-12 10:22:47.610  2022-05-10 13:43:32.203  2022-04-12 17:17:16.490   \n",
       "4  2022-05-10 13:47:53.570  2022-05-10 13:48:44.353  2022-05-17 08:43:32.737   \n",
       "\n",
       "   Activity ID  Task Executer  Task executer department        Task Type  ...  \\\n",
       "0          100         7638.0                     569.0  Initial Request  ...   \n",
       "1          102         4322.0                    1104.0        Execution  ...   \n",
       "2          103        10606.0                       NaN        Execution  ...   \n",
       "3          104         7638.0                     569.0        Execution  ...   \n",
       "4          107         7638.0                     569.0       Final task  ...   \n",
       "\n",
       "             Output  Sex  BirthYear Role ID Is Manager  OrgUnitSince  \\\n",
       "0  Request Finished    M     1967.0     5.0        Yes        2021.0   \n",
       "1  Request Finished    F     1967.0    21.0         No        2024.0   \n",
       "2  Request Finished    F     1975.0    11.0        Yes        2023.0   \n",
       "3  Request Finished    M     1967.0     5.0        Yes        2021.0   \n",
       "4  Request Finished    M     1967.0     5.0        Yes        2021.0   \n",
       "\n",
       "   IsOutSourcer                                    idField  \\\n",
       "0             N  1602,47,3486,3491,3388,3391,3420,203,1604   \n",
       "1             Y  1602,47,3486,3491,3388,3391,3420,203,1604   \n",
       "2             N  1602,47,3486,3491,3388,3391,3420,203,1604   \n",
       "3             N  1602,47,3486,3491,3388,3391,3420,203,1604   \n",
       "4             N  1602,47,3486,3491,3388,3391,3420,203,1604   \n",
       "\n",
       "                                            Value idBPMRequirement  \n",
       "0  1,1,10,10,10,10,20,2022-04-10T23:00:00.000Z,90              NaN  \n",
       "1  1,1,10,10,10,10,20,2022-04-10T23:00:00.000Z,90              NaN  \n",
       "2  1,1,10,10,10,10,20,2022-04-10T23:00:00.000Z,90              NaN  \n",
       "3  1,1,10,10,10,10,20,2022-04-10T23:00:00.000Z,90              NaN  \n",
       "4  1,1,10,10,10,10,20,2022-04-10T23:00:00.000Z,90              NaN  \n",
       "\n",
       "[5 rows x 23 columns]"
      ]
     },
     "execution_count": 48,
     "metadata": {},
     "output_type": "execute_result"
    }
   ],
   "source": [
    "# Merge the ds_joined with the ds_rejections_aggregated by Task Id\n",
    "ds_joined = pd.merge(ds_joined, ds_rejections_aggregated, on='Task Id', how='left')\n",
    "ds_joined.head()"
   ]
  },
  {
   "cell_type": "code",
   "execution_count": 49,
   "id": "7740b42c",
   "metadata": {},
   "outputs": [],
   "source": [
    "# ainda ha varias rows para o mesmo Case Id (Request Identifier)"
   ]
  },
  {
   "cell_type": "code",
   "execution_count": 50,
   "id": "72c42746",
   "metadata": {},
   "outputs": [
    {
     "data": {
      "text/plain": [
       "(209017, 23)"
      ]
     },
     "execution_count": 50,
     "metadata": {},
     "output_type": "execute_result"
    }
   ],
   "source": [
    "ds_joined.shape"
   ]
  },
  {
   "cell_type": "code",
   "execution_count": 51,
   "id": "4a195579",
   "metadata": {},
   "outputs": [],
   "source": [
    "# Change the columns data types\n",
    "cols_to_object = ['Task Id', 'Request Identifier', 'Activity ID', 'Task Executer', 'Task executer department', 'idBPMApplicationAction', 'Last Activity ID', 'Role ID']\n",
    "for col in cols_to_object:\n",
    "    ds_joined[col] = ds_joined[col].astype('object')\n",
    "\n",
    "ds_joined['Task arrival date'] = pd.to_datetime(ds_joined['Task arrival date'])\n",
    "ds_joined['Task capture date'] = pd.to_datetime(ds_joined['Task capture date'])\n",
    "ds_joined['Task execution end date'] = pd.to_datetime(ds_joined['Task execution end date'])\n",
    "ds_joined['Task predicted end date'] = pd.to_datetime(ds_joined['Task predicted end date'])"
   ]
  },
  {
   "cell_type": "code",
   "execution_count": 52,
   "id": "ce61b514",
   "metadata": {},
   "outputs": [
    {
     "name": "stdout",
     "output_type": "stream",
     "text": [
      "<class 'pandas.core.frame.DataFrame'>\n",
      "Int64Index: 209017 entries, 0 to 209016\n",
      "Data columns (total 23 columns):\n",
      " #   Column                    Non-Null Count   Dtype         \n",
      "---  ------                    --------------   -----         \n",
      " 0   Task Id                   209017 non-null  object        \n",
      " 1   Request Identifier        209017 non-null  object        \n",
      " 2   Task arrival date         209017 non-null  datetime64[ns]\n",
      " 3   Task capture date         209017 non-null  datetime64[ns]\n",
      " 4   Task execution end date   209017 non-null  datetime64[ns]\n",
      " 5   Task predicted end date   163232 non-null  datetime64[ns]\n",
      " 6   Activity ID               209017 non-null  object        \n",
      " 7   Task Executer             188888 non-null  object        \n",
      " 8   Task executer department  181887 non-null  object        \n",
      " 9   Task Type                 209017 non-null  object        \n",
      " 10  Action                    124576 non-null  object        \n",
      " 11  idBPMApplicationAction    209017 non-null  object        \n",
      " 12  Last Activity ID          209017 non-null  object        \n",
      " 13  Output                    209011 non-null  object        \n",
      " 14  Sex                       188888 non-null  object        \n",
      " 15  BirthYear                 188888 non-null  float64       \n",
      " 16  Role ID                   188888 non-null  object        \n",
      " 17  Is Manager                188888 non-null  object        \n",
      " 18  OrgUnitSince              188888 non-null  float64       \n",
      " 19  IsOutSourcer              188888 non-null  object        \n",
      " 20  idField                   209017 non-null  object        \n",
      " 21  Value                     209017 non-null  object        \n",
      " 22  idBPMRequirement          3546 non-null    object        \n",
      "dtypes: datetime64[ns](4), float64(2), object(17)\n",
      "memory usage: 38.3+ MB\n"
     ]
    }
   ],
   "source": [
    "ds_joined.info()"
   ]
  },
  {
   "cell_type": "code",
   "execution_count": null,
   "id": "65a6e0c3",
   "metadata": {},
   "outputs": [],
   "source": []
  },
  {
   "cell_type": "markdown",
   "id": "ea9a25e4",
   "metadata": {},
   "source": [
    "### 1.6. Outliers"
   ]
  },
  {
   "cell_type": "code",
   "execution_count": 53,
   "id": "fadba74a",
   "metadata": {},
   "outputs": [],
   "source": [
    "# Select only the numerical columns\n",
    "numerical_cols_ds_joined = ds_joined.select_dtypes(include=['int64', 'float64']).columns"
   ]
  },
  {
   "cell_type": "code",
   "execution_count": 54,
   "id": "f4c226e8",
   "metadata": {},
   "outputs": [
    {
     "data": {
      "image/png": "[encoded data removed]",
      "text/plain": [
       "<Figure size 1500x500 with 2 Axes>"
      ]
     },
     "metadata": {},
     "output_type": "display_data"
    }
   ],
   "source": [
    "# Boxplots (numerical columns)\n",
    "plt.figure(figsize=(15, 5))\n",
    "for i, col in enumerate(numerical_cols_ds_joined, 1):\n",
    "    plt.subplot(len(numerical_cols_ds_joined) // 3 + 1, 3, i)\n",
    "    sns.boxplot(x=ds_joined[col])\n",
    "    plt.title(col)\n",
    "\n",
    "plt.tight_layout()\n",
    "plt.show()"
   ]
  },
  {
   "cell_type": "code",
   "execution_count": 76,
   "id": "a885e172",
   "metadata": {},
   "outputs": [
    {
     "data": {
      "text/plain": [
       "38251    26\n",
       "14835    22\n",
       "42129    22\n",
       "27606    21\n",
       "38766    20\n",
       "         ..\n",
       "7698      2\n",
       "39088     2\n",
       "27537     2\n",
       "29429     2\n",
       "45449     2\n",
       "Name: Request Identifier, Length: 45772, dtype: int64"
      ]
     },
     "execution_count": 76,
     "metadata": {},
     "output_type": "execute_result"
    }
   ],
   "source": [
    "# looping cases podem ser outliers?\n",
    "ds_joined['Request Identifier'].value_counts()"
   ]
  },
  {
   "cell_type": "code",
   "execution_count": 77,
   "id": "2029f2be",
   "metadata": {},
   "outputs": [
    {
     "data": {
      "text/plain": [
       "4.566481691864022"
      ]
     },
     "execution_count": 77,
     "metadata": {},
     "output_type": "execute_result"
    }
   ],
   "source": [
    "ds_joined['Request Identifier'].value_counts().mean()"
   ]
  },
  {
   "cell_type": "code",
   "execution_count": null,
   "id": "dbd0f674",
   "metadata": {},
   "outputs": [],
   "source": []
  },
  {
   "cell_type": "markdown",
   "id": "b7dc01fd",
   "metadata": {},
   "source": [
    "### 1.7. Missing Values\n",
    "     \n",
    "     We will take different approaches to impute missing values of different variables, depending on the % of missing values and what makes more sense given the context and our understanding of the variable in cause "
   ]
  },
  {
   "cell_type": "code",
   "execution_count": 56,
   "id": "f1cc23e9",
   "metadata": {},
   "outputs": [
    {
     "data": {
      "text/plain": [
       "Task Id                          0\n",
       "Request Identifier               0\n",
       "Task arrival date                0\n",
       "Task capture date                0\n",
       "Task execution end date          0\n",
       "Task predicted end date      45785\n",
       "Activity ID                      0\n",
       "Task Executer                20129\n",
       "Task executer department     27130\n",
       "Task Type                        0\n",
       "Action                       84441\n",
       "idBPMApplicationAction           0\n",
       "Last Activity ID                 0\n",
       "Output                           6\n",
       "Sex                          20129\n",
       "BirthYear                    20129\n",
       "Role ID                      20129\n",
       "Is Manager                   20129\n",
       "OrgUnitSince                 20129\n",
       "IsOutSourcer                 20129\n",
       "idField                          0\n",
       "Value                            0\n",
       "idBPMRequirement            205471\n",
       "dtype: int64"
      ]
     },
     "execution_count": 56,
     "metadata": {},
     "output_type": "execute_result"
    }
   ],
   "source": [
    "ds_joined.isna().sum()"
   ]
  },
  {
   "cell_type": "markdown",
   "id": "c5f5983b",
   "metadata": {},
   "source": [
    "#### - Task predicted end date"
   ]
  },
  {
   "cell_type": "code",
   "execution_count": 57,
   "id": "d8c53b43",
   "metadata": {},
   "outputs": [
    {
     "data": {
      "text/plain": [
       "(45772, 23)"
      ]
     },
     "execution_count": 57,
     "metadata": {},
     "output_type": "execute_result"
    }
   ],
   "source": [
    "task_type_initial_request = ds_joined[ds_joined['Task Type'] == 'Initial Request']\n",
    "task_type_initial_request.shape"
   ]
  },
  {
   "cell_type": "code",
   "execution_count": 58,
   "id": "501f0802",
   "metadata": {},
   "outputs": [],
   "source": [
    "# quase todos os nans sao initial request provavelmente, preencher com 'Not necessary'?\n",
    "# os restantes casos ainda n sei"
   ]
  },
  {
   "cell_type": "code",
   "execution_count": null,
   "id": "3a1287d1",
   "metadata": {},
   "outputs": [],
   "source": [
    " "
   ]
  },
  {
   "cell_type": "markdown",
   "id": "4693ac78",
   "metadata": {},
   "source": [
    "#### - Task Executer"
   ]
  },
  {
   "cell_type": "code",
   "execution_count": 59,
   "id": "4f07530b",
   "metadata": {},
   "outputs": [
    {
     "data": {
      "text/plain": [
       "10606.0    32987\n",
       "4960.0     17347\n",
       "4731.0     13017\n",
       "4322.0     12438\n",
       "10925.0     2352\n",
       "           ...  \n",
       "705.0          1\n",
       "9069.0         1\n",
       "10875.0        1\n",
       "9410.0         1\n",
       "331.0          1\n",
       "Name: Task Executer, Length: 1648, dtype: int64"
      ]
     },
     "execution_count": 59,
     "metadata": {},
     "output_type": "execute_result"
    }
   ],
   "source": [
    "ds_joined['Task Executer'].value_counts()"
   ]
  },
  {
   "cell_type": "code",
   "execution_count": 60,
   "id": "cbe48535",
   "metadata": {},
   "outputs": [],
   "source": [
    "# preencher com 'Unknown'? ou tentar com knn por ex"
   ]
  },
  {
   "cell_type": "code",
   "execution_count": null,
   "id": "bebfe2b2",
   "metadata": {},
   "outputs": [],
   "source": []
  },
  {
   "cell_type": "markdown",
   "id": "b0a811fb",
   "metadata": {},
   "source": [
    "#### - Task executer department"
   ]
  },
  {
   "cell_type": "code",
   "execution_count": 61,
   "id": "a3f6e3b9",
   "metadata": {},
   "outputs": [
    {
     "data": {
      "text/plain": [
       "1146.0    27393\n",
       "1104.0    22335\n",
       "1147.0    18739\n",
       "1172.0     7800\n",
       "1177.0     4557\n",
       "          ...  \n",
       "307.0         1\n",
       "454.0         1\n",
       "309.0         1\n",
       "113.0         1\n",
       "370.0         1\n",
       "Name: Task executer department, Length: 391, dtype: int64"
      ]
     },
     "execution_count": 61,
     "metadata": {},
     "output_type": "execute_result"
    }
   ],
   "source": [
    "ds_joined['Task executer department'].value_counts()"
   ]
  },
  {
   "cell_type": "code",
   "execution_count": 62,
   "id": "5657d8eb",
   "metadata": {},
   "outputs": [],
   "source": [
    "# preencher com 'Unknown'? ou tentar com knn por ex"
   ]
  },
  {
   "cell_type": "code",
   "execution_count": null,
   "id": "32c3b9c5",
   "metadata": {},
   "outputs": [],
   "source": []
  },
  {
   "cell_type": "markdown",
   "id": "741fd7b2",
   "metadata": {},
   "source": [
    "#### - Action"
   ]
  },
  {
   "cell_type": "code",
   "execution_count": 63,
   "id": "972fffd4",
   "metadata": {},
   "outputs": [
    {
     "data": {
      "text/plain": [
       "Submit initial request                             45775\n",
       "Task executed with success                         24507\n",
       "Task terminated - administrative closure           19681\n",
       "Task automaticaly terminated - SLA time reached    16623\n",
       "Request accepted by requester                       9056\n",
       "Task returned to team                               8934\n",
       "Name: Action, dtype: int64"
      ]
     },
     "execution_count": 63,
     "metadata": {},
     "output_type": "execute_result"
    }
   ],
   "source": [
    "ds_joined['Action'].value_counts()"
   ]
  },
  {
   "cell_type": "code",
   "execution_count": 64,
   "id": "dd7bf85b",
   "metadata": {},
   "outputs": [],
   "source": [
    "# preencher com 'Unknown'?"
   ]
  },
  {
   "cell_type": "code",
   "execution_count": null,
   "id": "32a19f0d",
   "metadata": {},
   "outputs": [],
   "source": []
  },
  {
   "cell_type": "markdown",
   "id": "142292e7",
   "metadata": {},
   "source": [
    "#### - Output"
   ]
  },
  {
   "cell_type": "code",
   "execution_count": 65,
   "id": "b9283393",
   "metadata": {},
   "outputs": [
    {
     "data": {
      "text/plain": [
       "Request Finished                                               123202\n",
       "Closed administratively Requester Rejects Accounting Impact     79014\n",
       "Request Canceled                                                 6791\n",
       "Closed administratively                                             4\n",
       "Name: Output, dtype: int64"
      ]
     },
     "execution_count": 65,
     "metadata": {},
     "output_type": "execute_result"
    }
   ],
   "source": [
    "ds_joined['Output'].value_counts()"
   ]
  },
  {
   "cell_type": "code",
   "execution_count": 66,
   "id": "4be83f9d",
   "metadata": {},
   "outputs": [
    {
     "data": {
      "text/html": [
       "<div>\n",
       "<style scoped>\n",
       "    .dataframe tbody tr th:only-of-type {\n",
       "        vertical-align: middle;\n",
       "    }\n",
       "\n",
       "    .dataframe tbody tr th {\n",
       "        vertical-align: top;\n",
       "    }\n",
       "\n",
       "    .dataframe thead th {\n",
       "        text-align: right;\n",
       "    }\n",
       "</style>\n",
       "<table border=\"1\" class=\"dataframe\">\n",
       "  <thead>\n",
       "    <tr style=\"text-align: right;\">\n",
       "      <th></th>\n",
       "      <th>Task Id</th>\n",
       "      <th>Request Identifier</th>\n",
       "      <th>Task arrival date</th>\n",
       "      <th>Task capture date</th>\n",
       "      <th>Task execution end date</th>\n",
       "      <th>Task predicted end date</th>\n",
       "      <th>Activity ID</th>\n",
       "      <th>Task Executer</th>\n",
       "      <th>Task executer department</th>\n",
       "      <th>Task Type</th>\n",
       "      <th>...</th>\n",
       "      <th>Output</th>\n",
       "      <th>Sex</th>\n",
       "      <th>BirthYear</th>\n",
       "      <th>Role ID</th>\n",
       "      <th>Is Manager</th>\n",
       "      <th>OrgUnitSince</th>\n",
       "      <th>IsOutSourcer</th>\n",
       "      <th>idField</th>\n",
       "      <th>Value</th>\n",
       "      <th>idBPMRequirement</th>\n",
       "    </tr>\n",
       "  </thead>\n",
       "  <tbody>\n",
       "    <tr>\n",
       "      <th>39901</th>\n",
       "      <td>2183562</td>\n",
       "      <td>8934</td>\n",
       "      <td>2022-09-19 09:10:06.913</td>\n",
       "      <td>2022-09-19 09:10:06.913</td>\n",
       "      <td>2022-09-19 09:10:06.913</td>\n",
       "      <td>NaT</td>\n",
       "      <td>100</td>\n",
       "      <td>1147.0</td>\n",
       "      <td>175.0</td>\n",
       "      <td>Initial Request</td>\n",
       "      <td>...</td>\n",
       "      <td>NaN</td>\n",
       "      <td>F</td>\n",
       "      <td>1982.0</td>\n",
       "      <td>5.0</td>\n",
       "      <td>Yes</td>\n",
       "      <td>2023.0</td>\n",
       "      <td>N</td>\n",
       "      <td>3388,203,3420,3486,3390</td>\n",
       "      <td>10,2022-09-15T23:00:00.000Z,30,50,90</td>\n",
       "      <td>NaN</td>\n",
       "    </tr>\n",
       "    <tr>\n",
       "      <th>39902</th>\n",
       "      <td>2183563</td>\n",
       "      <td>8934</td>\n",
       "      <td>2022-09-19 09:10:08.320</td>\n",
       "      <td>2022-09-19 09:23:05.917</td>\n",
       "      <td>2022-09-19 09:23:05.917</td>\n",
       "      <td>2022-09-19 16:10:08.340</td>\n",
       "      <td>105</td>\n",
       "      <td>1147.0</td>\n",
       "      <td>175.0</td>\n",
       "      <td>Execution</td>\n",
       "      <td>...</td>\n",
       "      <td>NaN</td>\n",
       "      <td>F</td>\n",
       "      <td>1982.0</td>\n",
       "      <td>5.0</td>\n",
       "      <td>Yes</td>\n",
       "      <td>2023.0</td>\n",
       "      <td>N</td>\n",
       "      <td>3388,203,3420,3486,3390</td>\n",
       "      <td>10,2022-09-15T23:00:00.000Z,30,50,90</td>\n",
       "      <td>NaN</td>\n",
       "    </tr>\n",
       "    <tr>\n",
       "      <th>102301</th>\n",
       "      <td>3157900</td>\n",
       "      <td>22787</td>\n",
       "      <td>2023-03-29 15:00:37.053</td>\n",
       "      <td>2023-03-29 15:00:37.053</td>\n",
       "      <td>2023-03-29 15:00:37.053</td>\n",
       "      <td>NaT</td>\n",
       "      <td>100</td>\n",
       "      <td>8303.0</td>\n",
       "      <td>707.0</td>\n",
       "      <td>Initial Request</td>\n",
       "      <td>...</td>\n",
       "      <td>NaN</td>\n",
       "      <td>M</td>\n",
       "      <td>1970.0</td>\n",
       "      <td>6.0</td>\n",
       "      <td>Yes</td>\n",
       "      <td>2018.0</td>\n",
       "      <td>N</td>\n",
       "      <td>3486,203,3388,3390</td>\n",
       "      <td>10,2023-03-16T00:00:00.000Z,30,90</td>\n",
       "      <td>NaN</td>\n",
       "    </tr>\n",
       "    <tr>\n",
       "      <th>102302</th>\n",
       "      <td>3157901</td>\n",
       "      <td>22787</td>\n",
       "      <td>2023-03-29 15:00:41.083</td>\n",
       "      <td>2023-03-29 15:06:46.070</td>\n",
       "      <td>2023-03-29 15:06:46.070</td>\n",
       "      <td>2023-03-30 13:00:41.100</td>\n",
       "      <td>105</td>\n",
       "      <td>8303.0</td>\n",
       "      <td>707.0</td>\n",
       "      <td>Execution</td>\n",
       "      <td>...</td>\n",
       "      <td>NaN</td>\n",
       "      <td>M</td>\n",
       "      <td>1970.0</td>\n",
       "      <td>6.0</td>\n",
       "      <td>Yes</td>\n",
       "      <td>2018.0</td>\n",
       "      <td>N</td>\n",
       "      <td>3486,203,3388,3390</td>\n",
       "      <td>10,2023-03-16T00:00:00.000Z,30,90</td>\n",
       "      <td>NaN</td>\n",
       "    </tr>\n",
       "    <tr>\n",
       "      <th>171732</th>\n",
       "      <td>4449549</td>\n",
       "      <td>38736</td>\n",
       "      <td>2023-11-03 16:45:08.440</td>\n",
       "      <td>2023-11-03 16:45:08.440</td>\n",
       "      <td>2023-11-03 16:45:08.440</td>\n",
       "      <td>NaT</td>\n",
       "      <td>100</td>\n",
       "      <td>2109.0</td>\n",
       "      <td>157.0</td>\n",
       "      <td>Initial Request</td>\n",
       "      <td>...</td>\n",
       "      <td>NaN</td>\n",
       "      <td>F</td>\n",
       "      <td>1997.0</td>\n",
       "      <td>4.0</td>\n",
       "      <td>Yes</td>\n",
       "      <td>2024.0</td>\n",
       "      <td>N</td>\n",
       "      <td>3486,203,3388,3390</td>\n",
       "      <td>10,2023-11-03T00:00:00.000Z,50,90</td>\n",
       "      <td>NaN</td>\n",
       "    </tr>\n",
       "    <tr>\n",
       "      <th>171733</th>\n",
       "      <td>4449550</td>\n",
       "      <td>38736</td>\n",
       "      <td>2023-11-03 16:45:08.747</td>\n",
       "      <td>2023-11-03 16:47:15.117</td>\n",
       "      <td>2023-11-03 16:47:15.117</td>\n",
       "      <td>2023-11-06 14:45:08.823</td>\n",
       "      <td>105</td>\n",
       "      <td>2109.0</td>\n",
       "      <td>157.0</td>\n",
       "      <td>Execution</td>\n",
       "      <td>...</td>\n",
       "      <td>NaN</td>\n",
       "      <td>F</td>\n",
       "      <td>1997.0</td>\n",
       "      <td>4.0</td>\n",
       "      <td>Yes</td>\n",
       "      <td>2024.0</td>\n",
       "      <td>N</td>\n",
       "      <td>3486,203,3388,3390</td>\n",
       "      <td>10,2023-11-03T00:00:00.000Z,50,90</td>\n",
       "      <td>NaN</td>\n",
       "    </tr>\n",
       "  </tbody>\n",
       "</table>\n",
       "<p>6 rows × 23 columns</p>\n",
       "</div>"
      ],
      "text/plain": [
       "        Task Id Request Identifier       Task arrival date  \\\n",
       "39901   2183562               8934 2022-09-19 09:10:06.913   \n",
       "39902   2183563               8934 2022-09-19 09:10:08.320   \n",
       "102301  3157900              22787 2023-03-29 15:00:37.053   \n",
       "102302  3157901              22787 2023-03-29 15:00:41.083   \n",
       "171732  4449549              38736 2023-11-03 16:45:08.440   \n",
       "171733  4449550              38736 2023-11-03 16:45:08.747   \n",
       "\n",
       "             Task capture date Task execution end date  \\\n",
       "39901  2022-09-19 09:10:06.913 2022-09-19 09:10:06.913   \n",
       "39902  2022-09-19 09:23:05.917 2022-09-19 09:23:05.917   \n",
       "102301 2023-03-29 15:00:37.053 2023-03-29 15:00:37.053   \n",
       "102302 2023-03-29 15:06:46.070 2023-03-29 15:06:46.070   \n",
       "171732 2023-11-03 16:45:08.440 2023-11-03 16:45:08.440   \n",
       "171733 2023-11-03 16:47:15.117 2023-11-03 16:47:15.117   \n",
       "\n",
       "       Task predicted end date Activity ID Task Executer  \\\n",
       "39901                      NaT         100        1147.0   \n",
       "39902  2022-09-19 16:10:08.340         105        1147.0   \n",
       "102301                     NaT         100        8303.0   \n",
       "102302 2023-03-30 13:00:41.100         105        8303.0   \n",
       "171732                     NaT         100        2109.0   \n",
       "171733 2023-11-06 14:45:08.823         105        2109.0   \n",
       "\n",
       "       Task executer department        Task Type  ... Output Sex BirthYear  \\\n",
       "39901                     175.0  Initial Request  ...    NaN   F    1982.0   \n",
       "39902                     175.0        Execution  ...    NaN   F    1982.0   \n",
       "102301                    707.0  Initial Request  ...    NaN   M    1970.0   \n",
       "102302                    707.0        Execution  ...    NaN   M    1970.0   \n",
       "171732                    157.0  Initial Request  ...    NaN   F    1997.0   \n",
       "171733                    157.0        Execution  ...    NaN   F    1997.0   \n",
       "\n",
       "       Role ID Is Manager  OrgUnitSince IsOutSourcer                  idField  \\\n",
       "39901      5.0        Yes        2023.0            N  3388,203,3420,3486,3390   \n",
       "39902      5.0        Yes        2023.0            N  3388,203,3420,3486,3390   \n",
       "102301     6.0        Yes        2018.0            N       3486,203,3388,3390   \n",
       "102302     6.0        Yes        2018.0            N       3486,203,3388,3390   \n",
       "171732     4.0        Yes        2024.0            N       3486,203,3388,3390   \n",
       "171733     4.0        Yes        2024.0            N       3486,203,3388,3390   \n",
       "\n",
       "                                       Value idBPMRequirement  \n",
       "39901   10,2022-09-15T23:00:00.000Z,30,50,90              NaN  \n",
       "39902   10,2022-09-15T23:00:00.000Z,30,50,90              NaN  \n",
       "102301     10,2023-03-16T00:00:00.000Z,30,90              NaN  \n",
       "102302     10,2023-03-16T00:00:00.000Z,30,90              NaN  \n",
       "171732     10,2023-11-03T00:00:00.000Z,50,90              NaN  \n",
       "171733     10,2023-11-03T00:00:00.000Z,50,90              NaN  \n",
       "\n",
       "[6 rows x 23 columns]"
      ]
     },
     "execution_count": 66,
     "metadata": {},
     "output_type": "execute_result"
    }
   ],
   "source": [
    "ds_joined_output_nan = ds_joined[ds_joined['Output'].isna()]\n",
    "ds_joined_output_nan"
   ]
  },
  {
   "cell_type": "code",
   "execution_count": 67,
   "id": "72ddf8ee",
   "metadata": {},
   "outputs": [],
   "source": [
    "# o 'Output' é nan qnd o last activity é 105, mas segundo o esquema o processo n pode acabar no 105\n",
    "# preencher com resultado mais frequente? como são só 6 nans, ou 3 qnd passar para 1 linha por case id"
   ]
  },
  {
   "cell_type": "code",
   "execution_count": null,
   "id": "80f99d1d",
   "metadata": {},
   "outputs": [],
   "source": []
  },
  {
   "cell_type": "markdown",
   "id": "673ba580",
   "metadata": {},
   "source": [
    "#### - User information data (Sex, BirthYear, Role ID, IS Manager, OrgUnitSince, IsOutSourcer)"
   ]
  },
  {
   "cell_type": "code",
   "execution_count": 68,
   "id": "edc1206b",
   "metadata": {},
   "outputs": [
    {
     "name": "stdout",
     "output_type": "stream",
     "text": [
      "There are task executers in ds_task_execution that are not in ds_user_info.\n"
     ]
    }
   ],
   "source": [
    "# Check if all task executers from ds_task_execution are in ds_user_info\n",
    "all_task_executers_in_ds_user_info = set(ds_user_info['Task Executer'].unique())\n",
    "task_executers_in_ds_task_execution = set(ds_task_execution['Task Executer'].unique())\n",
    "\n",
    "if all(task_executer in all_task_executers_in_ds_user_info for task_executer in task_executers_in_ds_task_execution):\n",
    "    print(\"All task executers from ds_task_execution are in ds_user_info.\")\n",
    "else:\n",
    "    print(\"There are task executers in ds_task_execution that are not in ds_user_info.\")"
   ]
  },
  {
   "cell_type": "code",
   "execution_count": 69,
   "id": "6259f02d",
   "metadata": {},
   "outputs": [],
   "source": [
    "# nao temos dados de alguns users, preencher com 'Unknown'?"
   ]
  },
  {
   "cell_type": "code",
   "execution_count": null,
   "id": "e4b9ab6f",
   "metadata": {},
   "outputs": [],
   "source": []
  },
  {
   "cell_type": "markdown",
   "id": "a28ac832",
   "metadata": {},
   "source": [
    "#### - idBPMRequirement"
   ]
  },
  {
   "cell_type": "code",
   "execution_count": 70,
   "id": "30aa2503",
   "metadata": {},
   "outputs": [
    {
     "data": {
      "text/plain": [
       "183                             1547\n",
       "300                             1472\n",
       "331                              196\n",
       "191                              138\n",
       "353                               99\n",
       "661                               54\n",
       "183,300                           14\n",
       "183,353                           10\n",
       "1436                               8\n",
       "300,353                            2\n",
       "191,300,331,353,661,1436           1\n",
       "183,191,300,331,353,661,1436       1\n",
       "183,331                            1\n",
       "300,331                            1\n",
       "183,191                            1\n",
       "300,1436                           1\n",
       "Name: idBPMRequirement, dtype: int64"
      ]
     },
     "execution_count": 70,
     "metadata": {},
     "output_type": "execute_result"
    }
   ],
   "source": [
    "ds_joined['idBPMRequirement'].value_counts()"
   ]
  },
  {
   "cell_type": "code",
   "execution_count": 71,
   "id": "cdc69698",
   "metadata": {},
   "outputs": [],
   "source": [
    "# preencher com 'Not Applicable'?"
   ]
  },
  {
   "cell_type": "code",
   "execution_count": null,
   "id": "aaa2183d",
   "metadata": {},
   "outputs": [],
   "source": []
  },
  {
   "cell_type": "markdown",
   "id": "37e85a60",
   "metadata": {},
   "source": [
    "# 2. Feature Engineering"
   ]
  },
  {
   "cell_type": "markdown",
   "id": "f32ef5e6",
   "metadata": {},
   "source": [
    "### 2.1. Encoding"
   ]
  },
  {
   "cell_type": "code",
   "execution_count": null,
   "id": "58b42454",
   "metadata": {},
   "outputs": [],
   "source": []
  },
  {
   "cell_type": "markdown",
   "id": "19ce1f15",
   "metadata": {},
   "source": [
    "### 2.1. Feature Creation"
   ]
  },
  {
   "cell_type": "code",
   "execution_count": null,
   "id": "1db9daaa",
   "metadata": {},
   "outputs": [],
   "source": []
  },
  {
   "cell_type": "code",
   "execution_count": 72,
   "id": "45b6703e",
   "metadata": {},
   "outputs": [],
   "source": [
    "# :>"
   ]
  },
  {
   "cell_type": "code",
   "execution_count": 73,
   "id": "03d487ce",
   "metadata": {},
   "outputs": [],
   "source": [
    "# request identifier -> case id\n",
    "# predict the last activity before the end \n",
    "# add the column with the 4 possible ends\n",
    "# (classification problem)\n",
    "# looping outlier ?\n",
    "# encoding, columns for the activities\n",
    "# 3 activities ?\n",
    "# nans"
   ]
  },
  {
   "cell_type": "code",
   "execution_count": 74,
   "id": "bd558f89",
   "metadata": {},
   "outputs": [
    {
     "data": {
      "image/png": "[encoded data removed]",
      "text/plain": [
       "<Figure size 800x550 with 1 Axes>"
      ]
     },
     "metadata": {},
     "output_type": "display_data"
    }
   ],
   "source": [
    "# Data Visualization (Outputs proportion)\n",
    "ds_joined.Output.value_counts().plot.pie(autopct = \"%.1f%%\")\n",
    "plt.title(\"Proportion\")\n",
    "plt.show()"
   ]
  }
 ],
 "metadata": {
  "kernelspec": {
   "display_name": "Python 3 (ipykernel)",
   "language": "python",
   "name": "python3"
  },
  "language_info": {
   "codemirror_mode": {
    "name": "ipython",
    "version": 3
   },
   "file_extension": ".py",
   "mimetype": "text/x-python",
   "name": "python",
   "nbconvert_exporter": "python",
   "pygments_lexer": "ipython3",
   "version": "3.11.4"
  }
 },
 "nbformat": 4,
 "nbformat_minor": 5
}
